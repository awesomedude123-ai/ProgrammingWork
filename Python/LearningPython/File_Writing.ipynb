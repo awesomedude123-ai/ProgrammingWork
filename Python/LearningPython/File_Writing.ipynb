{
 "cells": [
  {
   "cell_type": "markdown",
   "id": "99042831-4f35-437d-8845-bc285421b09d",
   "metadata": {},
   "source": [
    "## Files"
   ]
  },
  {
   "cell_type": "markdown",
   "id": "0b81b471-4a83-429c-a187-ba94727dc8a3",
   "metadata": {},
   "source": [
    "## Reading Files"
   ]
  },
  {
   "cell_type": "code",
   "execution_count": 6,
   "id": "d2f48054-0679-4bef-b303-18b7862ca392",
   "metadata": {},
   "outputs": [
    {
     "name": "stdout",
     "output_type": "stream",
     "text": [
      "<_io.TextIOWrapper name='10_01_file.txt' mode='r' encoding='UTF-8'>\n"
     ]
    }
   ],
   "source": [
    "f = open('10_01_file.txt','r')\n",
    "print(f)"
   ]
  },
  {
   "cell_type": "code",
   "execution_count": 4,
   "id": "95cda75c-ad3a-418c-8929-1d449b3b1dcc",
   "metadata": {},
   "outputs": [
    {
     "data": {
      "text/plain": [
       "'this is so cool'"
      ]
     },
     "execution_count": 4,
     "metadata": {},
     "output_type": "execute_result"
    }
   ],
   "source": [
    "f.readline()"
   ]
  },
  {
   "cell_type": "code",
   "execution_count": 5,
   "id": "d2bde745-0a62-4d53-b2ff-09735dae3b29",
   "metadata": {},
   "outputs": [
    {
     "data": {
      "text/plain": [
       "[]"
      ]
     },
     "execution_count": 5,
     "metadata": {},
     "output_type": "execute_result"
    }
   ],
   "source": [
    "f.readlines()"
   ]
  },
  {
   "cell_type": "code",
   "execution_count": 7,
   "id": "9f18d3be-efa9-465d-8eb2-e21aac1a4856",
   "metadata": {},
   "outputs": [
    {
     "name": "stdout",
     "output_type": "stream",
     "text": [
      "this is so cool\n"
     ]
    }
   ],
   "source": [
    "for i in f.readlines():\n",
    "    print(i)"
   ]
  },
  {
   "cell_type": "markdown",
   "id": "668f6b4d-df28-4a53-8fef-65a9507cab24",
   "metadata": {},
   "source": [
    "## Writing Files"
   ]
  },
  {
   "cell_type": "code",
   "execution_count": 23,
   "id": "c583602b-c7d4-4d5d-921b-a7ced46cf20a",
   "metadata": {},
   "outputs": [
    {
     "name": "stdout",
     "output_type": "stream",
     "text": [
      "<_io.TextIOWrapper name='10_01_output.txt' mode='w' encoding='UTF-8'>\n"
     ]
    }
   ],
   "source": [
    "f = open('10_01_output.txt','w')\n",
    "print(f)"
   ]
  },
  {
   "cell_type": "code",
   "execution_count": 24,
   "id": "40211f10-cbd9-4b83-9a31-0f113e712549",
   "metadata": {},
   "outputs": [
    {
     "data": {
      "text/plain": [
       "7"
      ]
     },
     "execution_count": 24,
     "metadata": {},
     "output_type": "execute_result"
    }
   ],
   "source": [
    "f.write('Line 1\\n')\n",
    "f.write('Line 2\\n')"
   ]
  },
  {
   "cell_type": "code",
   "execution_count": 25,
   "id": "142fb978-db52-40f8-9b0e-19477c520c0c",
   "metadata": {},
   "outputs": [],
   "source": [
    "f.close()"
   ]
  },
  {
   "cell_type": "markdown",
   "id": "f80fbbb1-747c-44b3-bd23-328bcc954a31",
   "metadata": {},
   "source": [
    "## Appending Files"
   ]
  },
  {
   "cell_type": "code",
   "execution_count": 27,
   "id": "f5f2da69-6888-451b-8b24-41c13395c6c4",
   "metadata": {},
   "outputs": [],
   "source": [
    "f = open('10_02_output.txt','a')\n",
    "f.write('Line 3\\n')\n",
    "f.write('Line 4\\n')\n",
    "f.close()\n"
   ]
  },
  {
   "cell_type": "code",
   "execution_count": 28,
   "id": "650c0772-5aab-4f13-b13f-0327cebad1d6",
   "metadata": {},
   "outputs": [
    {
     "name": "stdout",
     "output_type": "stream",
     "text": [
      "<_io.TextIOWrapper name='10_02_output.txt' mode='a' encoding='UTF-8'>\n"
     ]
    }
   ],
   "source": [
    "with open('10_02_output.txt','a') as f:\n",
    "    f.write('some stuff\\n')\n",
    "    f.write('some other stuff\\n')\n",
    "print(f)"
   ]
  },
  {
   "cell_type": "markdown",
   "id": "49ccbd6e-c1b6-4e16-be53-9102342ceaa9",
   "metadata": {},
   "source": [
    "# CSV"
   ]
  },
  {
   "cell_type": "code",
   "execution_count": 29,
   "id": "b0b36c14-11e4-4eea-a4e9-ac13fcd64757",
   "metadata": {},
   "outputs": [],
   "source": [
    "import csv"
   ]
  },
  {
   "cell_type": "markdown",
   "id": "67a52a5f-7f17-4e9e-963b-e6e0b19d117b",
   "metadata": {},
   "source": [
    "## Reading"
   ]
  },
  {
   "cell_type": "code",
   "execution_count": null,
   "id": "231865b9-781c-4f85-aab4-d3f1b60004ec",
   "metadata": {},
   "outputs": [],
   "source": [
    "with open('10_02_us.csv','r') as f:\n",
    "    reader = csv.DictReader(f,delimiter='\\t')\n",
    "    for row in reader:\n",
    "        print(row)"
   ]
  },
  {
   "cell_type": "markdown",
   "id": "997c60c4-ad65-41fd-9e4c-42b67a422819",
   "metadata": {},
   "source": [
    "## Filering Data"
   ]
  },
  {
   "cell_type": "code",
   "execution_count": 49,
   "id": "116bb89f-38da-49c9-8b51-ef1bf1aaf8f5",
   "metadata": {},
   "outputs": [],
   "source": [
    "with open('10_02_us.csv','r') as f:\n",
    "    data = list(csv.DictReader(f,delimiter='\\t'))"
   ]
  },
  {
   "cell_type": "code",
   "execution_count": null,
   "id": "1594d079-4c3f-43bd-82fb-453909d39464",
   "metadata": {},
   "outputs": [],
   "source": [
    "primes = []\n",
    "for number in range(2,99999):\n",
    "    for factor in range(2, int(number**0.5)):\n",
    "        if number % factor == 0:\n",
    "            break\n",
    "        else:\n",
    "            primes.append(number)\n",
    "len(data)"
   ]
  },
  {
   "cell_type": "code",
   "execution_count": null,
   "id": "6a306a69-cdf5-4ec8-b596-9cf2b7129b5f",
   "metadata": {},
   "outputs": [],
   "source": [
    "data = [row for row in data if int(row['postal code']) in primes and row['state code']=='MA']\n",
    "len(data)"
   ]
  },
  {
   "cell_type": "markdown",
   "id": "28d5e830-d189-4ca5-a22f-ceeeae0721b3",
   "metadata": {},
   "source": [
    "## Writing"
   ]
  },
  {
   "cell_type": "code",
   "execution_count": null,
   "id": "685ba7be-9147-47bc-a91f-c08125031da5",
   "metadata": {},
   "outputs": [],
   "source": [
    "with open('10_02_ma_prime.csv','w') as f:\n",
    "    writer = csv.writer(f)\n",
    "    for row in data:\n",
    "        writer.writerow([row['place name'], row['country']])\n"
   ]
  },
  {
   "cell_type": "markdown",
   "id": "36fcd0f3-4b6d-4081-a1ff-8b5a5df738b9",
   "metadata": {},
   "source": [
    "# JSON"
   ]
  },
  {
   "cell_type": "markdown",
   "id": "6e70cbe0-801a-4da8-a04d-f52d53778deb",
   "metadata": {},
   "source": [
    "## Loading JSON"
   ]
  },
  {
   "cell_type": "code",
   "execution_count": 9,
   "id": "8a62309a-f70c-44c4-b728-fc95119c3ffd",
   "metadata": {},
   "outputs": [],
   "source": [
    "import json\n",
    "from json import JSONDecodeError\n",
    "from json import JSONEncoder"
   ]
  },
  {
   "cell_type": "code",
   "execution_count": 3,
   "id": "67d7d799-7685-4417-a7a5-b20252b773c3",
   "metadata": {},
   "outputs": [
    {
     "data": {
      "text/plain": [
       "{'a': 'apple', 'b': 'bear', 'c': 'cat'}"
      ]
     },
     "execution_count": 3,
     "metadata": {},
     "output_type": "execute_result"
    }
   ],
   "source": [
    "jsonString = '{\"a\":\"apple\", \"b\":\"bear\",\"c\":\"cat\"}'\n",
    "json.loads(jsonString)"
   ]
  },
  {
   "cell_type": "code",
   "execution_count": 4,
   "id": "d8bc8c67-9e12-448a-b5e1-e62358e1fda7",
   "metadata": {},
   "outputs": [],
   "source": [
    "try:\n",
    "    json.loads(jsonString)\n",
    "except JSONDecodeError:\n",
    "    print(\"Could not parse JSON:\")"
   ]
  },
  {
   "cell_type": "markdown",
   "id": "b205f91e-3235-4d85-96a5-d5cdc6454652",
   "metadata": {},
   "source": [
    "## Dumping JSON"
   ]
  },
  {
   "cell_type": "code",
   "execution_count": 7,
   "id": "a4d503e0-07c2-4dda-b196-ece62848d6a6",
   "metadata": {},
   "outputs": [
    {
     "data": {
      "text/plain": [
       "'{\"a\": \"apple\", \"b\": \"bear\", \"c\": \"cat\"}'"
      ]
     },
     "execution_count": 7,
     "metadata": {},
     "output_type": "execute_result"
    }
   ],
   "source": [
    "python = {'a': 'apple', 'b': 'bear', 'c': 'cat'}\n",
    "json.dumps(python)"
   ]
  },
  {
   "cell_type": "markdown",
   "id": "2d042197-7657-41cd-929d-2273c60ff9c0",
   "metadata": {},
   "source": [
    "## Custom JSON Decoders"
   ]
  },
  {
   "cell_type": "code",
   "execution_count": 11,
   "id": "c71a53a8-31c6-4e9d-8024-9e9fd243078a",
   "metadata": {},
   "outputs": [
    {
     "data": {
      "text/plain": [
       "'{\"a\": \"ardvaark\", \"b\": \"bear\", \"c\": \"cat\"}'"
      ]
     },
     "execution_count": 11,
     "metadata": {},
     "output_type": "execute_result"
    }
   ],
   "source": [
    "class Animal:\n",
    "    def __init__(self,name):\n",
    "        self.name = name\n",
    "\n",
    "class AnimalEncoder(JSONEncoder):\n",
    "    def default(self,o):\n",
    "        if type(o) == Animal:\n",
    "            return o.name\n",
    "        else:\n",
    "            return super().default(o)\n",
    "python = {'a': Animal('ardvaark'), 'b': Animal('bear'), 'c': Animal('cat')}\n",
    "json.dumps(python,cls=AnimalEncoder)"
   ]
  },
  {
   "cell_type": "code",
   "execution_count": null,
   "id": "73fcf44f-e910-42c2-a57d-2cb6727602fd",
   "metadata": {},
   "outputs": [],
   "source": []
  }
 ],
 "metadata": {
  "kernelspec": {
   "display_name": "Python 3",
   "language": "python",
   "name": "python3"
  },
  "language_info": {
   "codemirror_mode": {
    "name": "ipython",
    "version": 3
   },
   "file_extension": ".py",
   "mimetype": "text/x-python",
   "name": "python",
   "nbconvert_exporter": "python",
   "pygments_lexer": "ipython3",
   "version": "3.8.8"
  }
 },
 "nbformat": 4,
 "nbformat_minor": 5
}
