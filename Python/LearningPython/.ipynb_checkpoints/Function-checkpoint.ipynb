{
 "cells": [
  {
   "cell_type": "markdown",
   "id": "cb9aeb80-d209-48d4-b72a-7208fb661de6",
   "metadata": {},
   "source": [
    "# Function"
   ]
  },
  {
   "cell_type": "code",
   "execution_count": 1,
   "id": "64c5cb61-8816-45ac-97af-874bbc00b050",
   "metadata": {},
   "outputs": [
    {
     "name": "stdout",
     "output_type": "stream",
     "text": [
      "Hello World\n"
     ]
    }
   ],
   "source": [
    "print(\"Hello World\")"
   ]
  },
  {
   "cell_type": "code",
   "execution_count": 2,
   "id": "ee092c49-ac50-46ec-bd6f-99401216b086",
   "metadata": {},
   "outputs": [
    {
     "data": {
      "text/plain": [
       "9"
      ]
     },
     "execution_count": 2,
     "metadata": {},
     "output_type": "execute_result"
    }
   ],
   "source": [
    "def multiplyByThree(val):\n",
    "    return val*3\n",
    "multiplyByThree(3)"
   ]
  },
  {
   "cell_type": "code",
   "execution_count": 4,
   "id": "86e5d223-6543-401c-b400-addd15fcbffd",
   "metadata": {},
   "outputs": [
    {
     "data": {
      "text/plain": [
       "6"
      ]
     },
     "execution_count": 4,
     "metadata": {},
     "output_type": "execute_result"
    }
   ],
   "source": [
    "def multiply(val1,val2):\n",
    "    return val1*val2\n",
    "multiply(2,3)"
   ]
  },
  {
   "cell_type": "code",
   "execution_count": 5,
   "id": "ba99e2b1-d59f-40d9-8559-99d930216ac3",
   "metadata": {},
   "outputs": [
    {
     "name": "stdout",
     "output_type": "stream",
     "text": [
      "[1, 2, 3, 4]\n"
     ]
    }
   ],
   "source": [
    "a = [1,2,3]\n",
    "def appendList(a):\n",
    "    a.append(4)\n",
    "appendList(a)\n",
    "print(a)"
   ]
  },
  {
   "cell_type": "code",
   "execution_count": 2,
   "id": "e49e3498-49c7-4e5f-96e7-bd5ca216d083",
   "metadata": {},
   "outputs": [
    {
     "data": {
      "text/plain": [
       "5"
      ]
     },
     "execution_count": 2,
     "metadata": {},
     "output_type": "execute_result"
    }
   ],
   "source": [
    "def performOperation(num1,num2,operation):\n",
    "    if operation == 'sum':\n",
    "        return num1+num2\n",
    "    if operation == 'multiply':\n",
    "        return num1*num2\n",
    "performOperation(2,3,'sum')"
   ]
  },
  {
   "cell_type": "markdown",
   "id": "17694785-b6c4-42f4-bb5b-7894e4f225ce",
   "metadata": {},
   "source": [
    "## Named Parameters"
   ]
  },
  {
   "cell_type": "code",
   "execution_count": 3,
   "id": "e38bde09-7ef9-454b-a74c-61c3575ee782",
   "metadata": {},
   "outputs": [
    {
     "data": {
      "text/plain": [
       "5"
      ]
     },
     "execution_count": 3,
     "metadata": {},
     "output_type": "execute_result"
    }
   ],
   "source": [
    "def performOperation(num1,num2,operation='sum'):\n",
    "    if operation == 'sum':\n",
    "        return num1+num2\n",
    "    if operation == 'multiply':\n",
    "        return num1*num2\n",
    "performOperation(2,3)"
   ]
  },
  {
   "cell_type": "code",
   "execution_count": 4,
   "id": "4b79de82-6162-45f1-8dab-1562999b9720",
   "metadata": {},
   "outputs": [
    {
     "data": {
      "text/plain": [
       "6"
      ]
     },
     "execution_count": 4,
     "metadata": {},
     "output_type": "execute_result"
    }
   ],
   "source": [
    "def performOperation(num1,num2,operation='sum'):\n",
    "    if operation == 'sum':\n",
    "        return num1+num2\n",
    "    if operation == 'multiply':\n",
    "        return num1*num2\n",
    "performOperation(2,3,'multiply')"
   ]
  },
  {
   "cell_type": "markdown",
   "id": "ee66225d-5702-4399-82d8-94162374f58d",
   "metadata": {},
   "source": [
    "## *args"
   ]
  },
  {
   "cell_type": "code",
   "execution_count": 6,
   "id": "74a3f493-3329-496b-b0a7-052812943d6f",
   "metadata": {},
   "outputs": [
    {
     "name": "stdout",
     "output_type": "stream",
     "text": [
      "(1, 2, 3)\n"
     ]
    }
   ],
   "source": [
    "def performOperation(*args):\n",
    "    print(args)\n",
    "performOperation(1,2,3)"
   ]
  },
  {
   "cell_type": "code",
   "execution_count": null,
   "id": "0d0ef569-49ef-439f-b6e8-34775cee85bf",
   "metadata": {},
   "outputs": [],
   "source": []
  },
  {
   "cell_type": "markdown",
   "id": "de101550-a203-4b6d-a100-2679e1616f3d",
   "metadata": {},
   "source": [
    "## **kwargs"
   ]
  },
  {
   "cell_type": "code",
   "execution_count": 8,
   "id": "f80295ad-7017-4606-ac51-dd10273d7652",
   "metadata": {},
   "outputs": [
    {
     "name": "stdout",
     "output_type": "stream",
     "text": [
      "(1, 2, 3)\n",
      "{'operation': 'sum'}\n"
     ]
    }
   ],
   "source": [
    "def performOperation(*args, **kwargs):\n",
    "    print(args)\n",
    "    print(kwargs)\n",
    "performOperation(1,2,3,operation='sum')"
   ]
  },
  {
   "cell_type": "code",
   "execution_count": 9,
   "id": "3e5589cf-7ec0-492f-a067-cbe2255db425",
   "metadata": {},
   "outputs": [],
   "source": [
    "import math"
   ]
  },
  {
   "cell_type": "code",
   "execution_count": 12,
   "id": "a40d9bc2-0257-4978-b25e-d7c5a871c802",
   "metadata": {},
   "outputs": [
    {
     "data": {
      "text/plain": [
       "6"
      ]
     },
     "execution_count": 12,
     "metadata": {},
     "output_type": "execute_result"
    }
   ],
   "source": [
    "def performOperation(*args,operation='sum'):\n",
    "    if operation == 'sum':\n",
    "        return sum(args)\n",
    "    if operation == 'multiply':\n",
    "        return math.prod(args)\n",
    "performOperation(2,3,operation = 'multiply')"
   ]
  },
  {
   "cell_type": "code",
   "execution_count": 13,
   "id": "d32b667b-f827-4575-91a2-fd686fac1277",
   "metadata": {},
   "outputs": [
    {
     "data": {
      "text/plain": [
       "3600"
      ]
     },
     "execution_count": 13,
     "metadata": {},
     "output_type": "execute_result"
    }
   ],
   "source": [
    "performOperation(1,2,3,4,5,5,2,3,operation = 'multiply')"
   ]
  },
  {
   "cell_type": "markdown",
   "id": "84f09656-742e-4e5f-8aa7-cdf99b158dea",
   "metadata": {},
   "source": [
    "## Function Scope"
   ]
  },
  {
   "cell_type": "code",
   "execution_count": 14,
   "id": "6661b1a1-ac88-46ae-9446-30cbea90d5ca",
   "metadata": {},
   "outputs": [
    {
     "name": "stdout",
     "output_type": "stream",
     "text": [
      "(1, 2, 3)\n",
      "{'operation': 'sum'}\n"
     ]
    }
   ],
   "source": [
    "def performOperation(*args, **kwargs):\n",
    "    print(args)\n",
    "    print(kwargs)\n",
    "performOperation(1,2,3,operation='sum')"
   ]
  },
  {
   "cell_type": "markdown",
   "id": "36c16619-e943-4af1-b067-5aafcf39c0ab",
   "metadata": {},
   "source": [
    "### locals()"
   ]
  },
  {
   "cell_type": "code",
   "execution_count": 15,
   "id": "b42d1de3-b887-453d-a060-6cc45b271ff9",
   "metadata": {},
   "outputs": [
    {
     "name": "stdout",
     "output_type": "stream",
     "text": [
      "(1, 2)\n",
      "{'operation': 'multiply'}\n"
     ]
    }
   ],
   "source": [
    "def performOperations(num1,num2,operation='sum'):\n",
    "    print(locals())\n",
    "performOperation(1,2,operation='multiply')"
   ]
  },
  {
   "cell_type": "code",
   "execution_count": null,
   "id": "7ae50eef-7f08-410d-9efb-722b48c79cfc",
   "metadata": {},
   "outputs": [],
   "source": []
  },
  {
   "cell_type": "markdown",
   "id": "5dc66324-c4c4-46fd-826d-79401d157089",
   "metadata": {},
   "source": [
    "### globals()"
   ]
  },
  {
   "cell_type": "code",
   "execution_count": null,
   "id": "2bb05b27-adb7-4cd9-9b64-dbfa8884ef26",
   "metadata": {},
   "outputs": [],
   "source": [
    "globals()"
   ]
  },
  {
   "cell_type": "markdown",
   "id": "bf53607d-5240-41d1-a908-0abbe143c79e",
   "metadata": {},
   "source": [
    "### Global and Local Scope"
   ]
  },
  {
   "cell_type": "code",
   "execution_count": 19,
   "id": "8bbee9a3-07f4-43fe-b4bf-d7c727d7c9e3",
   "metadata": {},
   "outputs": [
    {
     "name": "stdout",
     "output_type": "stream",
     "text": [
      "{'varA': 1, 'varB': 2}\n",
      "some global data\n",
      "{'varc': 3, 'varB': 4}\n",
      "some global data\n"
     ]
    }
   ],
   "source": [
    "message = \"some global data\"\n",
    "\n",
    "def function1(varA,varB):\n",
    "    print(locals())\n",
    "    print(message)\n",
    "def function2(varc,varB):\n",
    "    print(locals())\n",
    "    print(message)\n",
    "function1(1,2)\n",
    "function2(3,4)"
   ]
  },
  {
   "cell_type": "code",
   "execution_count": 20,
   "id": "f9309e8e-7cb8-4e95-9019-0cc90d74f83d",
   "metadata": {},
   "outputs": [
    {
     "name": "stdout",
     "output_type": "stream",
     "text": [
      "1\n",
      "{'varA': 1, 'varB': 2}\n",
      "some global data\n",
      "2\n",
      "{'varc': 3, 'varB': 4}\n",
      "some global data\n"
     ]
    }
   ],
   "source": [
    "message = \"some global data\"\n",
    "varA = 2\n",
    "\n",
    "def function1(varA,varB):\n",
    "    print(varA)\n",
    "    print(locals())\n",
    "    print(message)\n",
    "def function2(varc,varB):\n",
    "    print(varA)\n",
    "    print(locals())\n",
    "    print(message)\n",
    "function1(1,2)\n",
    "function2(3,4)"
   ]
  },
  {
   "cell_type": "code",
   "execution_count": 21,
   "id": "2dc7df3a-2cdc-4fbc-a97d-9686f3263ad4",
   "metadata": {},
   "outputs": [
    {
     "name": "stdout",
     "output_type": "stream",
     "text": [
      "1\n",
      "inner_function local scope: {'carA': 123, 'varB': 456}\n"
     ]
    }
   ],
   "source": [
    "def function1(varA,varB):\n",
    "    message = 'Some local data'\n",
    "    print(varA)\n",
    "    def inner_function(carA,varB):\n",
    "        print(f'inner_function local scope: {locals()}')\n",
    "    \n",
    "    inner_function(123,456)\n",
    "function1(1,2)"
   ]
  },
  {
   "cell_type": "code",
   "execution_count": 22,
   "id": "5d8d18d2-80d9-43cb-a07d-e1aacd7f9745",
   "metadata": {},
   "outputs": [
    {
     "name": "stdout",
     "output_type": "stream",
     "text": [
      "1\n",
      "{'varA': 1, 'varB': 2, 'message': 'Some local data', 'inner_function': <function function1.<locals>.inner_function at 0x7fd5400d7160>}\n",
      "inner_function local scope: {'carA': 123, 'varB': 456}\n"
     ]
    }
   ],
   "source": [
    "def function1(varA,varB):\n",
    "    message = 'Some local data'\n",
    "    print(varA)\n",
    "    def inner_function(carA,varB):\n",
    "        print(f'inner_function local scope: {locals()}')\n",
    "    \n",
    "    print(locals())\n",
    "    inner_function(123,456)\n",
    "function1(1,2)"
   ]
  },
  {
   "cell_type": "markdown",
   "id": "5ced3794-01c3-4f10-837b-f75df054b008",
   "metadata": {},
   "source": [
    "## Variables as Functions"
   ]
  },
  {
   "cell_type": "markdown",
   "id": "11125ae9-b4fc-4dc1-adec-1b07b3afb65d",
   "metadata": {},
   "source": [
    "### Viewing function data with __code__"
   ]
  },
  {
   "cell_type": "code",
   "execution_count": 23,
   "id": "fce378df-ce3d-4f6f-b0d9-770197e80516",
   "metadata": {},
   "outputs": [],
   "source": [
    "def x():\n",
    "    return 5"
   ]
  },
  {
   "cell_type": "code",
   "execution_count": 24,
   "id": "4d144976-2768-4bf4-9775-e9a328aa6550",
   "metadata": {},
   "outputs": [
    {
     "name": "stdout",
     "output_type": "stream",
     "text": [
      "()\n",
      "b'd\\x01S\\x00'\n"
     ]
    }
   ],
   "source": [
    "print(x.__code__.co_varnames)\n",
    "print(x.__code__.co_code)"
   ]
  },
  {
   "cell_type": "markdown",
   "id": "65909d55-1675-448c-9165-990ef6dd6352",
   "metadata": {},
   "source": [
    "### Text Processing in Python"
   ]
  },
  {
   "cell_type": "code",
   "execution_count": 25,
   "id": "2684bf53-548b-4ef9-8137-7889ed3f3aee",
   "metadata": {},
   "outputs": [
    {
     "name": "stdout",
     "output_type": "stream",
     "text": [
      "12\n",
      "36\n",
      "18.0\n",
      "14.0\n"
     ]
    }
   ],
   "source": [
    "def add(num1):\n",
    "    return num1+2\n",
    "def multiply(num1):\n",
    "    return num1*3\n",
    "def divide(num1):\n",
    "    return num1/2\n",
    "def subtract(num1):\n",
    "    return num1-4\n",
    "\n",
    "process = [add,multiply,divide,subtract]\n",
    "num1 = 10\n",
    "for func in process:\n",
    "    num1 = func(num1)\n",
    "    print(num1 )"
   ]
  },
  {
   "cell_type": "markdown",
   "id": "ee82dcfd-71f0-4379-83b4-53a55c792b35",
   "metadata": {},
   "source": [
    "### Lambda Functions"
   ]
  },
  {
   "cell_type": "code",
   "execution_count": 26,
   "id": "f8279b33-3ea3-4fca-afd7-fdb0284fb762",
   "metadata": {},
   "outputs": [
    {
     "data": {
      "text/plain": [
       "8"
      ]
     },
     "execution_count": 26,
     "metadata": {},
     "output_type": "execute_result"
    }
   ],
   "source": [
    "(lambda x:x +3)(5)"
   ]
  },
  {
   "cell_type": "code",
   "execution_count": 27,
   "id": "120bdd3a-b0da-476d-a097-980311d93265",
   "metadata": {},
   "outputs": [
    {
     "data": {
      "text/plain": [
       "[2, 3, 4, 5]"
      ]
     },
     "execution_count": 27,
     "metadata": {},
     "output_type": "execute_result"
    }
   ],
   "source": [
    "myList = [5,4,3,2]\n",
    "sorted(myList)"
   ]
  },
  {
   "cell_type": "code",
   "execution_count": 28,
   "id": "557af08b-b796-47e8-a6e3-7a01e7574cc4",
   "metadata": {},
   "outputs": [
    {
     "data": {
      "text/plain": [
       "[{'num': 1}, {'num': 2}, {'num': 3}]"
      ]
     },
     "execution_count": 28,
     "metadata": {},
     "output_type": "execute_result"
    }
   ],
   "source": [
    "myList = [{'num':3},{'num':2},{'num':1}]\n",
    "sorted(myList,key = lambda x:x['num'])"
   ]
  },
  {
   "cell_type": "code",
   "execution_count": null,
   "id": "cb652db5-9d94-4019-9572-4f805dd3995e",
   "metadata": {},
   "outputs": [],
   "source": []
  }
 ],
 "metadata": {
  "kernelspec": {
   "display_name": "Python 3",
   "language": "python",
   "name": "python3"
  },
  "language_info": {
   "codemirror_mode": {
    "name": "ipython",
    "version": 3
   },
   "file_extension": ".py",
   "mimetype": "text/x-python",
   "name": "python",
   "nbconvert_exporter": "python",
   "pygments_lexer": "ipython3",
   "version": "3.8.8"
  }
 },
 "nbformat": 4,
 "nbformat_minor": 5
}
