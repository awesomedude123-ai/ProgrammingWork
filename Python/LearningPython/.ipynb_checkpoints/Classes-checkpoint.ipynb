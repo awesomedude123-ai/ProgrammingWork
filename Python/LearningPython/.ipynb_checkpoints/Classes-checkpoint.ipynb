{
 "cells": [
  {
   "cell_type": "markdown",
   "id": "394997b8-a695-43ee-88f1-7e0b2b9c848c",
   "metadata": {},
   "source": [
    "# Classes"
   ]
  },
  {
   "cell_type": "code",
   "execution_count": 7,
   "id": "2b719e7a-6037-4bd4-b48c-fb5d14071a28",
   "metadata": {},
   "outputs": [],
   "source": [
    "class Dog:\n",
    "    def __init__(self):\n",
    "        self.name = \"Rover\"\n",
    "        self.legs = 4\n",
    "    \n",
    "    def speak(self):\n",
    "        print(\"Brak!\")\n",
    "    def speak1(self):\n",
    "        print(self.name + \" says: Bark!\")"
   ]
  },
  {
   "cell_type": "code",
   "execution_count": 3,
   "id": "31d0eae1-b57f-4b83-a686-93eb38b6e93a",
   "metadata": {},
   "outputs": [],
   "source": [
    "my_dog = Dog()"
   ]
  },
  {
   "cell_type": "code",
   "execution_count": 9,
   "id": "310ebdcc-f030-49a8-a382-1472bc604453",
   "metadata": {},
   "outputs": [
    {
     "name": "stdout",
     "output_type": "stream",
     "text": [
      "Rover says: Bark!\n"
     ]
    }
   ],
   "source": [
    "#my_dog.speak()\n",
    "my_dog.speak1()"
   ]
  },
  {
   "cell_type": "code",
   "execution_count": 10,
   "id": "63dd47ed-b818-48d8-a542-d71605497524",
   "metadata": {},
   "outputs": [],
   "source": [
    "class Cat:\n",
    "    def __init__(self,name):\n",
    "        self.name = name\n",
    "        self.legs = 4\n",
    "    def speak(self):\n",
    "        print(self.name + \" says: Meow!\")"
   ]
  },
  {
   "cell_type": "code",
   "execution_count": 11,
   "id": "34a668b0-c008-44ea-9808-ef09ac05d849",
   "metadata": {},
   "outputs": [],
   "source": [
    "my_cat = Cat(\"Kalie\")"
   ]
  },
  {
   "cell_type": "code",
   "execution_count": 12,
   "id": "ad1201b7-029e-4ebc-9499-386a2b769f01",
   "metadata": {},
   "outputs": [
    {
     "name": "stdout",
     "output_type": "stream",
     "text": [
      "Kalie says: Meow!\n"
     ]
    }
   ],
   "source": [
    "my_cat.speak()"
   ]
  },
  {
   "cell_type": "code",
   "execution_count": null,
   "id": "b38e7a97-a35a-49fb-84b4-465a1e2a743e",
   "metadata": {},
   "outputs": [],
   "source": []
  }
 ],
 "metadata": {
  "kernelspec": {
   "display_name": "Python 3",
   "language": "python",
   "name": "python3"
  },
  "language_info": {
   "codemirror_mode": {
    "name": "ipython",
    "version": 3
   },
   "file_extension": ".py",
   "mimetype": "text/x-python",
   "name": "python",
   "nbconvert_exporter": "python",
   "pygments_lexer": "ipython3",
   "version": "3.8.8"
  }
 },
 "nbformat": 4,
 "nbformat_minor": 5
}
