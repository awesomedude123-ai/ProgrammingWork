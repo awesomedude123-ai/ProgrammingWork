{
 "cells": [
  {
   "cell_type": "markdown",
   "id": "394997b8-a695-43ee-88f1-7e0b2b9c848c",
   "metadata": {},
   "source": [
    "# Classes"
   ]
  },
  {
   "cell_type": "code",
   "execution_count": 7,
   "id": "2b719e7a-6037-4bd4-b48c-fb5d14071a28",
   "metadata": {},
   "outputs": [],
   "source": [
    "class Dog:\n",
    "    def __init__(self):\n",
    "        self.name = \"Rover\"\n",
    "        self.legs = 4\n",
    "    \n",
    "    def speak(self):\n",
    "        print(\"Brak!\")\n",
    "    def speak1(self):\n",
    "        print(self.name + \" says: Bark!\")"
   ]
  },
  {
   "cell_type": "code",
   "execution_count": 3,
   "id": "31d0eae1-b57f-4b83-a686-93eb38b6e93a",
   "metadata": {},
   "outputs": [],
   "source": [
    "my_dog = Dog()"
   ]
  },
  {
   "cell_type": "code",
   "execution_count": 9,
   "id": "310ebdcc-f030-49a8-a382-1472bc604453",
   "metadata": {},
   "outputs": [
    {
     "name": "stdout",
     "output_type": "stream",
     "text": [
      "Rover says: Bark!\n"
     ]
    }
   ],
   "source": [
    "#my_dog.speak()\n",
    "my_dog.speak1()"
   ]
  },
  {
   "cell_type": "code",
   "execution_count": 10,
   "id": "63dd47ed-b818-48d8-a542-d71605497524",
   "metadata": {},
   "outputs": [],
   "source": [
    "class Cat:\n",
    "    def __init__(self,name):\n",
    "        self.name = name\n",
    "        self.legs = 4\n",
    "    def speak(self):\n",
    "        print(self.name + \" says: Meow!\")"
   ]
  },
  {
   "cell_type": "code",
   "execution_count": 11,
   "id": "34a668b0-c008-44ea-9808-ef09ac05d849",
   "metadata": {},
   "outputs": [],
   "source": [
    "my_cat = Cat(\"Kalie\")"
   ]
  },
  {
   "cell_type": "code",
   "execution_count": 12,
   "id": "ad1201b7-029e-4ebc-9499-386a2b769f01",
   "metadata": {},
   "outputs": [
    {
     "name": "stdout",
     "output_type": "stream",
     "text": [
      "Kalie says: Meow!\n"
     ]
    }
   ],
   "source": [
    "my_cat.speak()"
   ]
  },
  {
   "cell_type": "markdown",
   "id": "811bbde2-4225-4921-842a-9fa21d42fa3c",
   "metadata": {},
   "source": [
    "## Instance Atrributes"
   ]
  },
  {
   "cell_type": "code",
   "execution_count": 3,
   "id": "fb965232-e7e8-4881-9b4f-0827990e2c14",
   "metadata": {},
   "outputs": [
    {
     "name": "stdout",
     "output_type": "stream",
     "text": [
      "Rover\n",
      "4\n"
     ]
    }
   ],
   "source": [
    "class Dog:\n",
    "    def __init__(self,name):\n",
    "        self.name = name\n",
    "        self.legs = 4\n",
    "        \n",
    "    def speak1(self):\n",
    "        print(self.name + \" says: Bark!\")\n",
    "\n",
    "myDog = Dog('Rover')\n",
    "print(myDog.name)\n",
    "print(myDog.legs)"
   ]
  },
  {
   "cell_type": "code",
   "execution_count": 4,
   "id": "057f2445-5c44-4245-953b-ad68cbf186bc",
   "metadata": {},
   "outputs": [
    {
     "ename": "NameError",
     "evalue": "name 'Dogs' is not defined",
     "output_type": "error",
     "traceback": [
      "\u001b[0;31m---------------------------------------------------------------------------\u001b[0m",
      "\u001b[0;31mNameError\u001b[0m                                 Traceback (most recent call last)",
      "\u001b[0;32m<ipython-input-4-6ed24bb234d7>\u001b[0m in \u001b[0;36m<module>\u001b[0;34m\u001b[0m\n\u001b[0;32m----> 1\u001b[0;31m \u001b[0mDogs\u001b[0m\u001b[0;34m.\u001b[0m\u001b[0mlegs\u001b[0m\u001b[0;34m\u001b[0m\u001b[0;34m\u001b[0m\u001b[0m\n\u001b[0m",
      "\u001b[0;31mNameError\u001b[0m: name 'Dogs' is not defined"
     ]
    }
   ],
   "source": [
    "Dogs.legs"
   ]
  },
  {
   "cell_type": "markdown",
   "id": "db15f7c3-de8b-4b4a-98b1-f7a7566b0470",
   "metadata": {},
   "source": [
    "## Static Attributes"
   ]
  },
  {
   "cell_type": "code",
   "execution_count": 5,
   "id": "020d27f1-7a23-4b51-95b5-d512a762c1a5",
   "metadata": {},
   "outputs": [
    {
     "name": "stdout",
     "output_type": "stream",
     "text": [
      "Rover\n",
      "4\n"
     ]
    }
   ],
   "source": [
    "class Dog:\n",
    "    legs = 4\n",
    "    def __init__(self,name):\n",
    "        self.name = name\n",
    "        \n",
    "    def speak1(self):\n",
    "        print(self.name + \" says: Bark!\")\n",
    "\n",
    "myDog = Dog('Rover')\n",
    "print(myDog.name)\n",
    "print(myDog.legs)"
   ]
  },
  {
   "cell_type": "code",
   "execution_count": 6,
   "id": "051c9c5d-7e62-47a0-a2c4-f523edf2a569",
   "metadata": {},
   "outputs": [
    {
     "data": {
      "text/plain": [
       "4"
      ]
     },
     "execution_count": 6,
     "metadata": {},
     "output_type": "execute_result"
    }
   ],
   "source": [
    "Dog.legs"
   ]
  },
  {
   "cell_type": "code",
   "execution_count": 7,
   "id": "1d3239f3-64ab-4a15-992b-14726930f278",
   "metadata": {},
   "outputs": [
    {
     "data": {
      "text/plain": [
       "3"
      ]
     },
     "execution_count": 7,
     "metadata": {},
     "output_type": "execute_result"
    }
   ],
   "source": [
    "Dog.legs = 3\n",
    "Dog.legs"
   ]
  },
  {
   "cell_type": "code",
   "execution_count": 12,
   "id": "0049034a-629d-4326-9c1b-d40f37c332cb",
   "metadata": {},
   "outputs": [
    {
     "name": "stdout",
     "output_type": "stream",
     "text": [
      "Rover\n",
      "4\n"
     ]
    }
   ],
   "source": [
    "class Dog:\n",
    "    _legs = 4\n",
    "    def __init__(self,name):\n",
    "        self.name = name\n",
    "    \n",
    "    def getLegs(self):\n",
    "        return self._legs\n",
    "    \n",
    "    def getLegs1():\n",
    "        return Dog._legs\n",
    "    \n",
    "    def speak1(self):\n",
    "        print(self.name + \" says: Bark!\")\n",
    "\n",
    "myDog = Dog('Rover')\n",
    "print(myDog.name)\n",
    "print(myDog.getLegs())"
   ]
  },
  {
   "cell_type": "code",
   "execution_count": 13,
   "id": "396f71cd-0f7a-424b-bf88-6741d3162fba",
   "metadata": {},
   "outputs": [
    {
     "name": "stdout",
     "output_type": "stream",
     "text": [
      "Rover\n",
      "3\n",
      "4\n"
     ]
    }
   ],
   "source": [
    "myDog = Dog('Rover')\n",
    "myDog._legs = 3\n",
    "print(myDog.name)\n",
    "print(myDog.getLegs())\n",
    "print(Dog._legs)"
   ]
  },
  {
   "cell_type": "markdown",
   "id": "9bd9cfe1-0d16-4ce8-b804-8f0b1c146f1b",
   "metadata": {},
   "source": [
    "## Static and Instance Methods"
   ]
  },
  {
   "cell_type": "code",
   "execution_count": 16,
   "id": "da729001-ed5a-45f3-8d8e-168f143e332b",
   "metadata": {},
   "outputs": [
    {
     "name": "stdout",
     "output_type": "stream",
     "text": [
      "{'hi', 'a', 'want', 'add', 'to', 'i', 'this', 'sentence', 'naother'}\n"
     ]
    }
   ],
   "source": [
    "class WordSet:\n",
    "    def __init__(self):\n",
    "        self.words = set()\n",
    "        \n",
    "    ##Instance\n",
    "    def addText(self,text):\n",
    "        text = WordSet.cleanText(text)\n",
    "        for word in text.split():\n",
    "            self.words.add(word)\n",
    "    \n",
    "    ##Static\n",
    "    def cleanText(text):\n",
    "        text = text.replace(\"!\",\"\").replace(\".\",\"\").replace(\",\",\"\").replace(\"\\''\",\"\")\n",
    "        return text.lower()\n",
    "\n",
    "wordSet = WordSet()\n",
    "wordSet.addText('Hi this a sentence I want to add')\n",
    "wordSet.addText('Hi Naother sentence I want to add')\n",
    "print(wordSet.words)"
   ]
  },
  {
   "cell_type": "markdown",
   "id": "bf94d314-58b0-4e8a-b316-344ea1efbb9c",
   "metadata": {},
   "source": [
    "## Decorators"
   ]
  },
  {
   "cell_type": "code",
   "execution_count": 20,
   "id": "5f23aaa0-623e-4644-a2f2-a18481c144d6",
   "metadata": {},
   "outputs": [
    {
     "name": "stdout",
     "output_type": "stream",
     "text": [
      "{'hi', 'a', 'want', 'add', 'to', 'i', 'this', 'sentence', 'naother'}\n"
     ]
    }
   ],
   "source": [
    "class WordSet:\n",
    "    replacePuncs=[',','.','!','\\'']\n",
    "    def __init__(self):\n",
    "        self.words = set()\n",
    "        \n",
    "    ##Instance\n",
    "    def addText(self,text):\n",
    "        text = self.cleanText(text)\n",
    "        for word in text.split():\n",
    "            self.words.add(word)\n",
    "    \n",
    "    @staticmethod\n",
    "    ##Static\n",
    "    def cleanText(text):\n",
    "        for punc in WordSet.replacePuncs:\n",
    "            text = text.replace(punc,\"\")\n",
    "        return text.lower()\n",
    "\n",
    "wordSet = WordSet()\n",
    "wordSet.addText('Hi this a sentence I want to add')\n",
    "wordSet.addText('Hi Naother sentence I want to add')\n",
    "print(wordSet.words)"
   ]
  },
  {
   "cell_type": "markdown",
   "id": "28748837-a3f8-4b7d-943a-87cb5c775c8d",
   "metadata": {},
   "source": [
    "## Class Inheritance"
   ]
  },
  {
   "cell_type": "code",
   "execution_count": 27,
   "id": "7d022e96-1e04-4f9e-8fdd-ab8571181644",
   "metadata": {},
   "outputs": [],
   "source": [
    "class Dog:\n",
    "    _legs = 4\n",
    "    def __init__(self,name):\n",
    "        self.name = name\n",
    "    \n",
    "    def speak(self):\n",
    "        print(self.name + \" says: Bark!\")\n",
    "    def getLegs(self):\n",
    "        return self._legs\n",
    "\n",
    "\n",
    "class Chihuahua(Dog):\n",
    "    def speak(self):\n",
    "        print(f'{self.name} says: Yap Yap Yap')\n",
    "    \n",
    "    def wagTail(self):\n",
    "        print('Vigoruous wagging')\n"
   ]
  },
  {
   "cell_type": "code",
   "execution_count": 28,
   "id": "c3d48000-a9bf-463c-8b2f-6060921cced6",
   "metadata": {},
   "outputs": [
    {
     "name": "stdout",
     "output_type": "stream",
     "text": [
      "Roxy says: Yap Yap Yap\n",
      "Vigoruous wagging\n"
     ]
    }
   ],
   "source": [
    "dog = Chihuahua('Roxy')\n",
    "dog.speak()\n",
    "dog.wagTail()"
   ]
  },
  {
   "cell_type": "code",
   "execution_count": 25,
   "id": "6fe923ad-3596-4244-af93-8cc9d2fd9b18",
   "metadata": {},
   "outputs": [],
   "source": [
    "myDog = Dog(\"Rover\")"
   ]
  },
  {
   "cell_type": "code",
   "execution_count": 26,
   "id": "46a051aa-3eeb-4f12-ae6b-a3c9fba99690",
   "metadata": {},
   "outputs": [
    {
     "name": "stdout",
     "output_type": "stream",
     "text": [
      "Rover says: Bark!\n"
     ]
    }
   ],
   "source": [
    "myDog.speak()"
   ]
  },
  {
   "cell_type": "markdown",
   "id": "d6f0ef81-dc5f-4283-b29f-8e059fe5de88",
   "metadata": {},
   "source": [
    "## Extending built-in classes"
   ]
  },
  {
   "cell_type": "code",
   "execution_count": 29,
   "id": "49303a06-b586-4841-bf58-a6f50f705c6d",
   "metadata": {},
   "outputs": [],
   "source": [
    "myList = list()"
   ]
  },
  {
   "cell_type": "code",
   "execution_count": 30,
   "id": "d72cb831-d0a5-4c46-8311-8369923b04b8",
   "metadata": {},
   "outputs": [
    {
     "name": "stdout",
     "output_type": "stream",
     "text": [
      "[1, 2]\n"
     ]
    }
   ],
   "source": [
    "class UniqueList(list):\n",
    "    def append(self,item):\n",
    "        if item in self:\n",
    "            return\n",
    "        super().append(item)\n",
    "li = UniqueList()\n",
    "li.append(1)\n",
    "li.append(1)\n",
    "li.append(2)\n",
    "print(li)"
   ]
  },
  {
   "cell_type": "code",
   "execution_count": 33,
   "id": "591376fd-2e33-41a6-a546-a2e0c98a43d8",
   "metadata": {},
   "outputs": [
    {
     "name": "stdout",
     "output_type": "stream",
     "text": [
      "Unique List!\n"
     ]
    }
   ],
   "source": [
    "class UniqueList(list):\n",
    "    def __init__(self):\n",
    "        super().__init__()\n",
    "        self.someProperty = 'Unique List!'\n",
    "\n",
    "    def append(self,item):\n",
    "        if item in self:\n",
    "            return\n",
    "        super().append(item)\n",
    "li = UniqueList()\n",
    "li.append(1)\n",
    "li.append(1)\n",
    "li.append(2)\n",
    "print(li.someProperty)"
   ]
  },
  {
   "cell_type": "code",
   "execution_count": null,
   "id": "4f1d181a-13a6-45c6-993d-65939b73f963",
   "metadata": {},
   "outputs": [],
   "source": []
  }
 ],
 "metadata": {
  "kernelspec": {
   "display_name": "Python 3",
   "language": "python",
   "name": "python3"
  },
  "language_info": {
   "codemirror_mode": {
    "name": "ipython",
    "version": 3
   },
   "file_extension": ".py",
   "mimetype": "text/x-python",
   "name": "python",
   "nbconvert_exporter": "python",
   "pygments_lexer": "ipython3",
   "version": "3.8.8"
  }
 },
 "nbformat": 4,
 "nbformat_minor": 5
}
