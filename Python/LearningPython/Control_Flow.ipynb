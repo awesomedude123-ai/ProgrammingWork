{
 "cells": [
  {
   "cell_type": "markdown",
   "id": "e07eb8d9-0d70-4a6d-91a5-45481d401ffe",
   "metadata": {},
   "source": [
    "# Control Flow"
   ]
  },
  {
   "cell_type": "markdown",
   "id": "5695100f-9048-4a95-a44a-ce94523f9d5d",
   "metadata": {},
   "source": [
    "## If / Else Statements"
   ]
  },
  {
   "cell_type": "code",
   "execution_count": 1,
   "id": "5fdc3ee6-a21a-4808-907c-8378017d3282",
   "metadata": {},
   "outputs": [
    {
     "name": "stdout",
     "output_type": "stream",
     "text": [
      "It is true!\n"
     ]
    }
   ],
   "source": [
    "a = True\n",
    "if a:\n",
    "    print('It is true!')"
   ]
  },
  {
   "cell_type": "code",
   "execution_count": 3,
   "id": "f5b30567-566e-4927-aaf3-87b8da5e0c94",
   "metadata": {},
   "outputs": [
    {
     "name": "stdout",
     "output_type": "stream",
     "text": [
      "It is false\n"
     ]
    }
   ],
   "source": [
    "a = False\n",
    "if a:\n",
    "    print(\"It is true\")\n",
    "else:\n",
    "    print('It is false')"
   ]
  },
  {
   "cell_type": "code",
   "execution_count": 1,
   "id": "bef6ccaa-2806-4848-9a90-4955d3203d3c",
   "metadata": {},
   "outputs": [
    {
     "name": "stdout",
     "output_type": "stream",
     "text": [
      "1\n",
      "2\n",
      "Fizz\n",
      "4\n",
      "Buzz\n",
      "Fizz\n",
      "7\n",
      "8\n",
      "Fizz\n",
      "Buzz\n",
      "11\n",
      "Fizz\n",
      "13\n",
      "14\n",
      "FizzBuzz\n",
      "16\n",
      "17\n",
      "Fizz\n",
      "19\n",
      "Buzz\n",
      "Fizz\n",
      "22\n",
      "23\n",
      "Fizz\n",
      "Buzz\n",
      "26\n",
      "Fizz\n",
      "28\n",
      "29\n",
      "FizzBuzz\n",
      "31\n",
      "32\n",
      "Fizz\n",
      "34\n",
      "Buzz\n",
      "Fizz\n",
      "37\n",
      "38\n",
      "Fizz\n",
      "Buzz\n",
      "41\n",
      "Fizz\n",
      "43\n",
      "44\n",
      "FizzBuzz\n",
      "46\n",
      "47\n",
      "Fizz\n",
      "49\n",
      "Buzz\n",
      "Fizz\n",
      "52\n",
      "53\n",
      "Fizz\n",
      "Buzz\n",
      "56\n",
      "Fizz\n",
      "58\n",
      "59\n",
      "FizzBuzz\n",
      "61\n",
      "62\n",
      "Fizz\n",
      "64\n",
      "Buzz\n",
      "Fizz\n",
      "67\n",
      "68\n",
      "Fizz\n",
      "Buzz\n",
      "71\n",
      "Fizz\n",
      "73\n",
      "74\n",
      "FizzBuzz\n",
      "76\n",
      "77\n",
      "Fizz\n",
      "79\n",
      "Buzz\n",
      "Fizz\n",
      "82\n",
      "83\n",
      "Fizz\n",
      "Buzz\n",
      "86\n",
      "Fizz\n",
      "88\n",
      "89\n",
      "FizzBuzz\n",
      "91\n",
      "92\n",
      "Fizz\n",
      "94\n",
      "Buzz\n",
      "Fizz\n",
      "97\n",
      "98\n",
      "Fizz\n",
      "Buzz\n"
     ]
    }
   ],
   "source": [
    "for n in range(1,101):\n",
    "    if n %15==0:\n",
    "        print('FizzBuzz')\n",
    "    elif n%3==0:\n",
    "        print(\"Fizz\")\n",
    "    elif n%5==0:\n",
    "        print(\"Buzz\")\n",
    "    else:\n",
    "        print(n)"
   ]
  },
  {
   "cell_type": "code",
   "execution_count": 2,
   "id": "f179665d-3596-4f6b-91a7-91570e377e23",
   "metadata": {},
   "outputs": [
    {
     "name": "stdout",
     "output_type": "stream",
     "text": [
      "Fizz\n"
     ]
    }
   ],
   "source": [
    "n = 3\n",
    "print('Fizz' if n%3==0 else n)"
   ]
  },
  {
   "cell_type": "code",
   "execution_count": 3,
   "id": "9dbc434e-bf47-4146-baa4-c894ecf37f31",
   "metadata": {},
   "outputs": [],
   "source": [
    "fizzbuzz = 'Fizz' if n%3==0 else n"
   ]
  },
  {
   "cell_type": "code",
   "execution_count": 4,
   "id": "f40077f9-0e2e-4b85-8e59-2789f2d78d94",
   "metadata": {},
   "outputs": [],
   "source": [
    "fizzbuzz = 'Fizz' if n%3==0 else 'Buzz' if n%5==0 else n"
   ]
  },
  {
   "cell_type": "code",
   "execution_count": 5,
   "id": "c0494ce1-78fc-47d5-8cc7-8bce06b330a5",
   "metadata": {},
   "outputs": [
    {
     "data": {
      "text/plain": [
       "'Fizz'"
      ]
     },
     "execution_count": 5,
     "metadata": {},
     "output_type": "execute_result"
    }
   ],
   "source": [
    "'FizzBuzz' if n%15==0 else 'Fizz' if n%3==0 else 'Buzz' if n%5==0 else n"
   ]
  },
  {
   "cell_type": "markdown",
   "id": "a5770871-2d1b-477d-83d2-171d9982b7f9",
   "metadata": {},
   "source": [
    "## For Loops"
   ]
  },
  {
   "cell_type": "code",
   "execution_count": 4,
   "id": "58024ebb-be98-4a95-8968-408ed5ba323c",
   "metadata": {},
   "outputs": [
    {
     "name": "stdout",
     "output_type": "stream",
     "text": [
      "1\n",
      "2\n",
      "3\n",
      "4\n"
     ]
    }
   ],
   "source": [
    "a = [1,2,3,4]\n",
    "for i in a:\n",
    "    print(i)"
   ]
  },
  {
   "cell_type": "code",
   "execution_count": 6,
   "id": "e79a3c1e-a270-4338-854c-f5d7c170ec32",
   "metadata": {},
   "outputs": [
    {
     "name": "stdout",
     "output_type": "stream",
     "text": [
      "hi\n",
      "cool\n",
      "kool\n"
     ]
    }
   ],
   "source": [
    "a = ['hi','cool','kool']\n",
    "for i in range(0,len(a)):\n",
    "    print(a[i])"
   ]
  },
  {
   "cell_type": "code",
   "execution_count": 15,
   "id": "ce55899f-c99f-4301-9722-1f3ad6b11458",
   "metadata": {},
   "outputs": [
    {
     "name": "stdout",
     "output_type": "stream",
     "text": [
      "1\n",
      "2\n",
      "3\n",
      "4\n"
     ]
    }
   ],
   "source": [
    "myList = [1,2,3,4]\n",
    "for item in myList:\n",
    "    print(item)"
   ]
  },
  {
   "cell_type": "code",
   "execution_count": 16,
   "id": "71269eef-6ede-4ee1-99cc-1eaf08558fdf",
   "metadata": {},
   "outputs": [],
   "source": [
    "animalLookup = {\n",
    "    'a':['aardvark','antelope'],\n",
    "    'b':['bear'],\n",
    "    'c':['cat'],\n",
    "    'd':['dog'],\n",
    "}\n",
    "\n",
    "for letter, animals in animalLookup.items():\n",
    "    pass"
   ]
  },
  {
   "cell_type": "code",
   "execution_count": 17,
   "id": "69ffc70b-08b6-4d3e-b16c-e2b226bc9a60",
   "metadata": {},
   "outputs": [
    {
     "name": "stdout",
     "output_type": "stream",
     "text": [
      "Only one animal! ['bear']\n",
      "Only one animal! ['cat']\n",
      "Only one animal! ['dog']\n"
     ]
    }
   ],
   "source": [
    "animalLookup = {\n",
    "    'a':['aardvark','antelope'],\n",
    "    'b':['bear'],\n",
    "    'c':['cat'],\n",
    "    'd':['dog'],\n",
    "}\n",
    "\n",
    "for letter, animals in animalLookup.items():\n",
    "    if len(animals)>1:\n",
    "        continue\n",
    "    print(f'Only one animal! {animals}')"
   ]
  },
  {
   "cell_type": "code",
   "execution_count": 18,
   "id": "99530a60-5d43-473e-a6b4-8e2df8a09496",
   "metadata": {},
   "outputs": [
    {
     "name": "stdout",
     "output_type": "stream",
     "text": [
      "Found 2 animals: ['aardvark', 'antelope']\n"
     ]
    }
   ],
   "source": [
    "animalLookup = {\n",
    "    'a':['aardvark','antelope'],\n",
    "    'b':['bear'],\n",
    "    'c':['cat'],\n",
    "    'd':['dog'],\n",
    "}\n",
    "\n",
    "for letter, animals in animalLookup.items():\n",
    "    if len(animals) > 1:\n",
    "        print(f'Found {len(animals)} animals: {animals}')\n",
    "        break"
   ]
  },
  {
   "cell_type": "code",
   "execution_count": 19,
   "id": "bf906dcc-bdd6-42f7-889a-f016f2958dfd",
   "metadata": {},
   "outputs": [
    {
     "name": "stdout",
     "output_type": "stream",
     "text": [
      "2 is prime!\n",
      "3 is prime!\n",
      "5 is prime!\n",
      "7 is prime!\n",
      "11 is prime!\n",
      "13 is prime!\n",
      "17 is prime!\n",
      "19 is prime!\n",
      "23 is prime!\n",
      "29 is prime!\n",
      "31 is prime!\n",
      "37 is prime!\n",
      "41 is prime!\n",
      "43 is prime!\n",
      "47 is prime!\n",
      "53 is prime!\n",
      "59 is prime!\n",
      "61 is prime!\n",
      "67 is prime!\n",
      "71 is prime!\n",
      "73 is prime!\n",
      "79 is prime!\n",
      "83 is prime!\n",
      "89 is prime!\n",
      "97 is prime!\n"
     ]
    }
   ],
   "source": [
    "for number in range(2,100):\n",
    "    for factor in range(2,int(number**0.5)+1):\n",
    "        if number%factor == 0:\n",
    "            break\n",
    "    else:\n",
    "        print(f'{number} is prime!')"
   ]
  },
  {
   "cell_type": "code",
   "execution_count": 20,
   "id": "1d8e5af3-3f94-4587-8ae0-1d22f556ad0e",
   "metadata": {},
   "outputs": [
    {
     "name": "stdout",
     "output_type": "stream",
     "text": [
      "2 is prime!\n",
      "3 is prime!\n",
      "5 is prime!\n",
      "7 is prime!\n",
      "11 is prime!\n",
      "13 is prime!\n",
      "17 is prime!\n",
      "19 is prime!\n",
      "23 is prime!\n",
      "29 is prime!\n",
      "31 is prime!\n",
      "37 is prime!\n",
      "41 is prime!\n",
      "43 is prime!\n",
      "47 is prime!\n",
      "53 is prime!\n",
      "59 is prime!\n",
      "61 is prime!\n",
      "67 is prime!\n",
      "71 is prime!\n",
      "73 is prime!\n",
      "79 is prime!\n",
      "83 is prime!\n",
      "89 is prime!\n",
      "97 is prime!\n"
     ]
    }
   ],
   "source": [
    "for number in range(2,100):\n",
    "    found_factors = False\n",
    "    for factor in range(2,int(number**0.5)+1):\n",
    "        if number % factor == 0:\n",
    "            found_factors = True\n",
    "            break\n",
    "    if not found_factors:\n",
    "        print(f'{number} is prime!')"
   ]
  },
  {
   "cell_type": "markdown",
   "id": "b1c30224-2668-4105-9c70-2612a729b33e",
   "metadata": {},
   "source": [
    "## While Loops"
   ]
  },
  {
   "cell_type": "code",
   "execution_count": 8,
   "id": "dd402603-4788-4979-8344-4eb47068da37",
   "metadata": {},
   "outputs": [
    {
     "name": "stdout",
     "output_type": "stream",
     "text": [
      "0\n",
      "1\n",
      "2\n",
      "3\n",
      "4\n"
     ]
    }
   ],
   "source": [
    "a = 0\n",
    "while a<5:\n",
    "    print(a)\n",
    "    a = a + 1"
   ]
  },
  {
   "cell_type": "code",
   "execution_count": 6,
   "id": "59ba0c5b-4bda-4be7-ad45-b3f6999e7d5a",
   "metadata": {},
   "outputs": [],
   "source": [
    "from datetime import datetime"
   ]
  },
  {
   "cell_type": "code",
   "execution_count": 7,
   "id": "be28ebd5-0e0c-42de-8303-317dacd5082a",
   "metadata": {},
   "outputs": [
    {
     "data": {
      "text/plain": [
       "9"
      ]
     },
     "execution_count": 7,
     "metadata": {},
     "output_type": "execute_result"
    }
   ],
   "source": [
    "datetime.now().second"
   ]
  },
  {
   "cell_type": "code",
   "execution_count": 10,
   "id": "3b2aaac7-899b-4329-a8c2-0ce6de7a944f",
   "metadata": {},
   "outputs": [
    {
     "name": "stdout",
     "output_type": "stream",
     "text": [
      "We are at 56 seconds\n"
     ]
    }
   ],
   "source": [
    "wait_until = (datetime.now().second + 2) % 60\n",
    "\n",
    "while datetime.now().second != wait_until:\n",
    "    pass\n",
    "print(f'We are at {wait_until} seconds')"
   ]
  },
  {
   "cell_type": "code",
   "execution_count": 11,
   "id": "e8876d63-9417-4c9a-b976-89fc5e623e65",
   "metadata": {},
   "outputs": [
    {
     "name": "stdout",
     "output_type": "stream",
     "text": [
      "We are at 48 seconds\n"
     ]
    }
   ],
   "source": [
    "wait_until = (datetime.now().second + 2) % 60\n",
    "\n",
    "while True:\n",
    "    if datetime.now().second == wait_until:\n",
    "        break\n",
    "print(f'We are at {wait_until} seconds')"
   ]
  },
  {
   "cell_type": "code",
   "execution_count": 12,
   "id": "631c739f-9ee8-43c7-a636-c8c39106ec6d",
   "metadata": {},
   "outputs": [
    {
     "name": "stdout",
     "output_type": "stream",
     "text": [
      "We are at 19 seconds\n"
     ]
    }
   ],
   "source": [
    "wait_until = (datetime.now().second + 2) % 60\n",
    "\n",
    "while datetime.now().second != wait_until:\n",
    "    continue\n",
    "    print('Still Waiting')\n",
    "print(f'We are at {wait_until} seconds')"
   ]
  },
  {
   "cell_type": "code",
   "execution_count": 14,
   "id": "de9f2ab5-6ee8-46a8-90a9-86e60e1290ba",
   "metadata": {},
   "outputs": [
    {
     "name": "stdout",
     "output_type": "stream",
     "text": [
      "We are at 38 seconds\n"
     ]
    }
   ],
   "source": [
    "wait_until = (datetime.now().second + 2) % 60\n",
    "\n",
    "while True:\n",
    "    if datetime.now().second < wait_until:\n",
    "        continue\n",
    "    break\n",
    "print(f'We are at {wait_until} seconds')"
   ]
  },
  {
   "cell_type": "code",
   "execution_count": null,
   "id": "d13b2f54-2da1-4b07-9aac-ac1a04a0b6c2",
   "metadata": {},
   "outputs": [],
   "source": []
  }
 ],
 "metadata": {
  "kernelspec": {
   "display_name": "Python 3",
   "language": "python",
   "name": "python3"
  },
  "language_info": {
   "codemirror_mode": {
    "name": "ipython",
    "version": 3
   },
   "file_extension": ".py",
   "mimetype": "text/x-python",
   "name": "python",
   "nbconvert_exporter": "python",
   "pygments_lexer": "ipython3",
   "version": "3.8.8"
  }
 },
 "nbformat": 4,
 "nbformat_minor": 5
}
