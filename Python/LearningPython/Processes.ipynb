{
 "cells": [
  {
   "cell_type": "markdown",
   "id": "c7666c88-8197-4275-8401-9913b767547c",
   "metadata": {},
   "source": [
    "# Processes"
   ]
  },
  {
   "cell_type": "code",
   "execution_count": 12,
   "id": "78c5bdbf-ad2e-4a07-8470-f7d04e2400a8",
   "metadata": {},
   "outputs": [],
   "source": [
    "from multiprocess import Process\n",
    "import time\n",
    "import threading"
   ]
  },
  {
   "cell_type": "code",
   "execution_count": 14,
   "id": "fde3df9b-76d3-497f-be70-541efd282842",
   "metadata": {},
   "outputs": [
    {
     "name": "stdout",
     "output_type": "stream",
     "text": [
      "0\n",
      "finishedComputing1\n",
      "\n",
      "finishedComputing\n",
      "4\n",
      "finishedComputing\n",
      "9\n",
      "finishedComputing\n",
      "16\n",
      "finishedComputing\n",
      "25\n",
      "finishedComputing\n",
      "36\n",
      "finishedComputing\n",
      "49\n",
      "finishedComputing\n",
      "64\n",
      "finishedComputing\n",
      "81\n",
      "finishedComputing\n"
     ]
    },
    {
     "data": {
      "text/plain": [
       "[None, None, None, None, None, None, None, None, None, None]"
      ]
     },
     "execution_count": 14,
     "metadata": {},
     "output_type": "execute_result"
    }
   ],
   "source": [
    "results = {}\n",
    "\n",
    "def longSquare(num,results):\n",
    "    time.sleep(1)\n",
    "    print(num**2)\n",
    "    print('finishedComputing')\n",
    "\n",
    "process = [Process(target=longSquare,args=(n,results)) for n in range(0,10)]\n",
    "[p.start() for p in process]\n",
    "[p.join() for p in process]\n",
    "\n"
   ]
  },
  {
   "cell_type": "code",
   "execution_count": 15,
   "id": "a0394b3e-648e-4a68-98e0-55129a36835d",
   "metadata": {},
   "outputs": [
    {
     "name": "stdout",
     "output_type": "stream",
     "text": [
      "0116436496492581\n",
      "finishedComputing\n",
      "\n",
      "finishedComputing\n",
      "\n",
      "finishedComputing\n",
      "\n",
      "\n",
      "\n",
      "\n",
      "\n",
      "finishedComputing\n",
      "finishedComputingfinishedComputing\n",
      "finishedComputing\n",
      "\n",
      "finishedComputing\n",
      "\n",
      "\n",
      "finishedComputingfinishedComputing\n",
      "\n",
      "{}\n"
     ]
    }
   ],
   "source": [
    "\n",
    "results = {}\n",
    "threads = [threading.Thread(target = longSquare, args = (n,results)) for n in range(0,10)]\n",
    "[t.start() for t in threads]\n",
    "[t.join() for t in threads]\n",
    "print(results)"
   ]
  },
  {
   "cell_type": "code",
   "execution_count": null,
   "id": "a7373824-0b74-41a7-b069-91fe9206638f",
   "metadata": {},
   "outputs": [],
   "source": []
  }
 ],
 "metadata": {
  "kernelspec": {
   "display_name": "Python 3",
   "language": "python",
   "name": "python3"
  },
  "language_info": {
   "codemirror_mode": {
    "name": "ipython",
    "version": 3
   },
   "file_extension": ".py",
   "mimetype": "text/x-python",
   "name": "python",
   "nbconvert_exporter": "python",
   "pygments_lexer": "ipython3",
   "version": "3.8.8"
  }
 },
 "nbformat": 4,
 "nbformat_minor": 5
}
