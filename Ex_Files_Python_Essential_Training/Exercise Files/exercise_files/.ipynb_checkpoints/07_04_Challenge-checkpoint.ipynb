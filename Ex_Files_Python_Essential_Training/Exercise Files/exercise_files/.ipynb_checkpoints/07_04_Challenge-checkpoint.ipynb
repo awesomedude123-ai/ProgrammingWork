{
 "cells": [
  {
   "cell_type": "markdown",
   "id": "6d8279ab",
   "metadata": {},
   "source": [
    "## Extending the Messenger\n",
    "\n",
    "Create a class \"SaveMessages\" that extends the Messenger class that does the following things:\n",
    "\n",
    "- Add any messages it receives to a list, along with the time the message was received\n",
    "- Use the provided \"getCurrentTime\" function so that the received message time is a string\n",
    "- Contains a method called \"printMessages\" that prints all collected messages when it's called.\n",
    "\n",
    "You might also consider clearing the message list when \"printMessages\" is called. \n"
   ]
  },
  {
   "cell_type": "code",
   "execution_count": 52,
   "id": "35d4f1f5",
   "metadata": {},
   "outputs": [],
   "source": [
    "from datetime import datetime\n",
    "\n",
    "def getCurrentTime():\n",
    "    return datetime.now().strftime(\"%m-%d-%Y %H:%M:%S\")\n",
    "\n",
    "\n",
    "class Messenger:\n",
    "    def __init__(self, listeners=[]):\n",
    "        self.listeners = listeners\n",
    "    \n",
    "    def send(self, message):\n",
    "        for listener in self.listeners:\n",
    "            listener.receive(message)\n",
    "\n",
    "    def receive(self, message):\n",
    "        # Must be implemented by extending classes\n",
    "        self.addMessage(message)\n",
    "\n",
    "\n",
    "class SaveMessages(Messenger):\n",
    "    def __init__(self):\n",
    "        super()\n",
    "        self.messages=list()\n",
    "    \n",
    "    def addMessage(self,message):\n",
    "        time=getCurrentTime()\n",
    "        self.messages.append({time:message})\n",
    "    def printMessages(self):\n",
    "        li=[[time+\" --> \"+str(message) for time,message in msg.items()] for msg in self.messages]\n",
    "        for i in li:\n",
    "            print(\"\".join(i))\n",
    "        self.messages.clear()\n",
    "\n"
   ]
  },
  {
   "cell_type": "code",
   "execution_count": 53,
   "id": "608e3112",
   "metadata": {},
   "outputs": [],
   "source": [
    "# Run this cell after you've written your solution\n",
    "listener = SaveMessages()\n",
    "\n",
    "sender = Messenger([listener])\n",
    "\n",
    "sender.send('Hello, there! This is the first message')\n"
   ]
  },
  {
   "cell_type": "code",
   "execution_count": 54,
   "id": "2de8c179",
   "metadata": {},
   "outputs": [],
   "source": [
    "# Run this cell after you've written your solution\n",
    "sender.send('Oh hi! This is the second message!')"
   ]
  },
  {
   "cell_type": "code",
   "execution_count": 55,
   "id": "29c00698",
   "metadata": {},
   "outputs": [
    {
     "name": "stdout",
     "output_type": "stream",
     "text": [
      "02-25-2023 19:03:34 --> Hello, there! This is the first message\n",
      "02-25-2023 19:03:34 --> Oh hi! This is the second message!\n",
      "02-25-2023 19:03:35 --> Hola! This is the third and final message!\n"
     ]
    }
   ],
   "source": [
    "# Run this cell after you've written your solution\n",
    "sender.send('Hola! This is the third and final message!')\n",
    "\n",
    "listener.printMessages()"
   ]
  },
  {
   "cell_type": "code",
   "execution_count": null,
   "id": "079631ed",
   "metadata": {},
   "outputs": [],
   "source": []
  }
 ],
 "metadata": {
  "kernelspec": {
   "display_name": "Python 3",
   "language": "python",
   "name": "python3"
  },
  "language_info": {
   "codemirror_mode": {
    "name": "ipython",
    "version": 3
   },
   "file_extension": ".py",
   "mimetype": "text/x-python",
   "name": "python",
   "nbconvert_exporter": "python",
   "pygments_lexer": "ipython3",
   "version": "3.8.8"
  },
  "vscode": {
   "interpreter": {
    "hash": "949777d72b0d2535278d3dc13498b2535136f6dfe0678499012e853ee9abcab1"
   }
  }
 },
 "nbformat": 4,
 "nbformat_minor": 5
}
