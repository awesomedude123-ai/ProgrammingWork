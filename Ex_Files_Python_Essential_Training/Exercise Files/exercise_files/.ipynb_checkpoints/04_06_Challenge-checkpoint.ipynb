{
 "cells": [
  {
   "cell_type": "markdown",
   "id": "6a6c3649",
   "metadata": {},
   "source": [
    "## ASCII Art Encoding\n",
    "\n",
    "Write a function \"encodeString\" that will encode a string like 'AAAAABBBBAAA' as a list of tuples: [('A', 5), ('B', 4), ('A', 3)] meaning that the string has \"5 A's, followed by 4 B's, followed by 3 A's\"\n",
    "\n",
    "Then use that function to compress a string containing \"ASCII Art\" (https://en.wikipedia.org/wiki/ASCII_art)\n",
    "\n",
    "Write a corresponding function \"decodeString\" that will take in a list of tuples and print the original string.\n"
   ]
  },
  {
   "cell_type": "code",
   "execution_count": 121,
   "id": "7777d38e",
   "metadata": {},
   "outputs": [],
   "source": [
    "def encodeString(stringVal):\n",
    "    l,k=[],[]\n",
    "    a,c=stringVal[0],0\n",
    "    for i in stringVal:\n",
    "        if i=='\\n':\n",
    "            l.append((a,c))\n",
    "            k.append(l)\n",
    "            l=[]\n",
    "            a,c=i,0\n",
    "        else:\n",
    "            if a==i:\n",
    "                c+=1\n",
    "            else:\n",
    "                l.append((a,c))\n",
    "                a,c=i,1\n",
    "    l.append((a,c))\n",
    "    k.append(l)\n",
    "    return k\n",
    "\n",
    "def decodeString(encodedList):\n",
    "    l=[[key*value for key,value in ls] for ls in encodedList]\n",
    "    for i in l:\n",
    "        print(\"\".join(i))"
   ]
  },
  {
   "cell_type": "code",
   "execution_count": 117,
   "id": "90b128f9",
   "metadata": {},
   "outputs": [
    {
     "ename": "IndentationError",
     "evalue": "unindent does not match any outer indentation level (<tokenize>, line 6)",
     "output_type": "error",
     "traceback": [
      "\u001b[0;36m  File \u001b[0;32m\"<tokenize>\"\u001b[0;36m, line \u001b[0;32m6\u001b[0m\n\u001b[0;31m    else:\u001b[0m\n\u001b[0m    ^\u001b[0m\n\u001b[0;31mIndentationError\u001b[0m\u001b[0;31m:\u001b[0m unindent does not match any outer indentation level\n"
     ]
    }
   ],
   "source": [
    "if i=='\\n':\n",
    "            l.append((a,c))\n",
    "            k.append(l)\n",
    "            l=[]\n",
    "            a,c=\" \",0\n",
    "        else:"
   ]
  },
  {
   "cell_type": "code",
   "execution_count": 99,
   "id": "5c140867",
   "metadata": {},
   "outputs": [
    {
     "ename": "ValueError",
     "evalue": "not enough values to unpack (expected 2, got 1)",
     "output_type": "error",
     "traceback": [
      "\u001b[0;31m---------------------------------------------------------------------------\u001b[0m",
      "\u001b[0;31mValueError\u001b[0m                                Traceback (most recent call last)",
      "\u001b[0;32m<ipython-input-99-4d3cd0bef65c>\u001b[0m in \u001b[0;36m<module>\u001b[0;34m\u001b[0m\n\u001b[0;32m----> 1\u001b[0;31m decodeString([('\\n', 1),\n\u001b[0m\u001b[1;32m      2\u001b[0m \u001b[0;34m(\u001b[0m\u001b[0;34m' '\u001b[0m\u001b[0;34m,\u001b[0m \u001b[0;36m31\u001b[0m\u001b[0;34m)\u001b[0m\u001b[0;34m,\u001b[0m\u001b[0;34m\u001b[0m\u001b[0;34m\u001b[0m\u001b[0m\n\u001b[1;32m      3\u001b[0m ('%', 19)])\n",
      "\u001b[0;32m<ipython-input-98-d9532c8ba822>\u001b[0m in \u001b[0;36mdecodeString\u001b[0;34m(encodedList)\u001b[0m\n\u001b[1;32m     13\u001b[0m \u001b[0;32mdef\u001b[0m \u001b[0mdecodeString\u001b[0m\u001b[0;34m(\u001b[0m\u001b[0mencodedList\u001b[0m\u001b[0;34m)\u001b[0m\u001b[0;34m:\u001b[0m\u001b[0;34m\u001b[0m\u001b[0;34m\u001b[0m\u001b[0m\n\u001b[1;32m     14\u001b[0m     \u001b[0;32mfor\u001b[0m \u001b[0mls\u001b[0m \u001b[0;32min\u001b[0m \u001b[0mencodedList\u001b[0m\u001b[0;34m:\u001b[0m\u001b[0;34m\u001b[0m\u001b[0;34m\u001b[0m\u001b[0m\n\u001b[0;32m---> 15\u001b[0;31m         \u001b[0;32mfor\u001b[0m \u001b[0mkey\u001b[0m\u001b[0;34m,\u001b[0m\u001b[0mvalue\u001b[0m \u001b[0;32min\u001b[0m \u001b[0mls\u001b[0m\u001b[0;34m:\u001b[0m\u001b[0;34m\u001b[0m\u001b[0;34m\u001b[0m\u001b[0m\n\u001b[0m\u001b[1;32m     16\u001b[0m             \u001b[0mprint\u001b[0m\u001b[0;34m(\u001b[0m\u001b[0mkey\u001b[0m\u001b[0;34m*\u001b[0m\u001b[0mvalue\u001b[0m\u001b[0;34m)\u001b[0m\u001b[0;34m\u001b[0m\u001b[0;34m\u001b[0m\u001b[0m\n\u001b[1;32m     17\u001b[0m     \u001b[0ml\u001b[0m\u001b[0;34m=\u001b[0m\u001b[0;34m[\u001b[0m\u001b[0;34m[\u001b[0m\u001b[0mkey\u001b[0m \u001b[0;32mfor\u001b[0m \u001b[0mkey\u001b[0m\u001b[0;34m,\u001b[0m\u001b[0mvalue\u001b[0m \u001b[0;32min\u001b[0m \u001b[0mls\u001b[0m\u001b[0;34m]\u001b[0m \u001b[0;32mfor\u001b[0m \u001b[0mls\u001b[0m \u001b[0;32min\u001b[0m \u001b[0mencodedList\u001b[0m\u001b[0;34m]\u001b[0m\u001b[0;34m\u001b[0m\u001b[0;34m\u001b[0m\u001b[0m\n",
      "\u001b[0;31mValueError\u001b[0m: not enough values to unpack (expected 2, got 1)"
     ]
    }
   ],
   "source": [
    "decodeString([('\\n', 1),\n",
    "(' ', 31),\n",
    "('%', 19)])"
   ]
  },
  {
   "cell_type": "code",
   "execution_count": 122,
   "id": "3eee6256",
   "metadata": {},
   "outputs": [],
   "source": [
    "art = '''\n",
    "\n",
    "                                                                                \n",
    "                                                                                \n",
    "                               %%%%%%%%%%%%%%%%%%%                              \n",
    "                        %%%%%%%%%%%%%%%%%%%%%%%%%%%%%%%%%                       \n",
    "                    %%%%%%%%                         %%%%%%%%                   \n",
    "                %%%%%%%                                   %%%%%%                \n",
    "              %%%%%%                                         %%%%%%             \n",
    "           %%%%%%                                               %%%%%           \n",
    "          %%%%%                                                   %%%%%         \n",
    "        %%%%%                                                       %%%%%       \n",
    "       %%%%                 %%%%%              %%%%%                  %%%%      \n",
    "      %%%%                 %%%%%%%            %%%%%%%                  %%%%     \n",
    "     %%%%                  %%%%%%%            %%%%%%%                   %%%%    \n",
    "    %%%%                   %%%%%%%            %%%%%%%                    %%%%   \n",
    "    %%%%                    %%%%%              %%%%%                     %%%%   \n",
    "   %%%%                                                                   %%%%  \n",
    "   %%%%                                                                   %%%%  \n",
    "   %%%%                                                                   %%%%  \n",
    "   %%%%                                                      %%%%        %%%%   \n",
    "    %%%%       %%%%%%                                        %%%%%       %%%%   \n",
    "    %%%%         %%%%                                       %%%%        %%%%    \n",
    "     %%%%         %%%%                                     %%%%         %%%%    \n",
    "      %%%%         %%%%%                                  %%%%         %%%%     \n",
    "       %%%%%         %%%%%                             %%%%%         %%%%%      \n",
    "        %%%%%          %%%%%%                        %%%%%          %%%%        \n",
    "          %%%%%           %%%%%%%               %%%%%%%           %%%%%         \n",
    "            %%%%%             %%%%%%%%%%%%%%%%%%%%%             %%%%%           \n",
    "              %%%%%%%                                        %%%%%              \n",
    "                 %%%%%%%                                 %%%%%%%                \n",
    "                     %%%%%%%%%                     %%%%%%%%%                    \n",
    "                          %%%%%%%%%%%%%%%%%%%%%%%%%%%%%                         \n",
    "                                   %%%%%%%%%%%%                                 \n",
    "                                                                                \n",
    "                                                                                 \n",
    "\n",
    "'''"
   ]
  },
  {
   "cell_type": "code",
   "execution_count": 123,
   "id": "dec27033",
   "metadata": {},
   "outputs": [],
   "source": [
    "encodedString = encodeString(art)\n"
   ]
  },
  {
   "cell_type": "code",
   "execution_count": 124,
   "id": "942d4ff8",
   "metadata": {},
   "outputs": [
    {
     "name": "stdout",
     "output_type": "stream",
     "text": [
      "\n",
      "\n",
      "                                                                                \n",
      "                                                                                \n",
      "                               %%%%%%%%%%%%%%%%%%%                              \n",
      "                        %%%%%%%%%%%%%%%%%%%%%%%%%%%%%%%%%                       \n",
      "                    %%%%%%%%                         %%%%%%%%                   \n",
      "                %%%%%%%                                   %%%%%%                \n",
      "              %%%%%%                                         %%%%%%             \n",
      "           %%%%%%                                               %%%%%           \n",
      "          %%%%%                                                   %%%%%         \n",
      "        %%%%%                                                       %%%%%       \n",
      "       %%%%                 %%%%%              %%%%%                  %%%%      \n",
      "      %%%%                 %%%%%%%            %%%%%%%                  %%%%     \n",
      "     %%%%                  %%%%%%%            %%%%%%%                   %%%%    \n",
      "    %%%%                   %%%%%%%            %%%%%%%                    %%%%   \n",
      "    %%%%                    %%%%%              %%%%%                     %%%%   \n",
      "   %%%%                                                                   %%%%  \n",
      "   %%%%                                                                   %%%%  \n",
      "   %%%%                                                                   %%%%  \n",
      "   %%%%                                                      %%%%        %%%%   \n",
      "    %%%%       %%%%%%                                        %%%%%       %%%%   \n",
      "    %%%%         %%%%                                       %%%%        %%%%    \n",
      "     %%%%         %%%%                                     %%%%         %%%%    \n",
      "      %%%%         %%%%%                                  %%%%         %%%%     \n",
      "       %%%%%         %%%%%                             %%%%%         %%%%%      \n",
      "        %%%%%          %%%%%%                        %%%%%          %%%%        \n",
      "          %%%%%           %%%%%%%               %%%%%%%           %%%%%         \n",
      "            %%%%%             %%%%%%%%%%%%%%%%%%%%%             %%%%%           \n",
      "              %%%%%%%                                        %%%%%              \n",
      "                 %%%%%%%                                 %%%%%%%                \n",
      "                     %%%%%%%%%                     %%%%%%%%%                    \n",
      "                          %%%%%%%%%%%%%%%%%%%%%%%%%%%%%                         \n",
      "                                   %%%%%%%%%%%%                                 \n",
      "                                                                                \n",
      "                                                                                 \n",
      "\n",
      "\n"
     ]
    }
   ],
   "source": [
    "decodeString(encodedString)"
   ]
  },
  {
   "cell_type": "code",
   "execution_count": null,
   "id": "e1485f53",
   "metadata": {},
   "outputs": [],
   "source": []
  }
 ],
 "metadata": {
  "kernelspec": {
   "display_name": "Python 3",
   "language": "python",
   "name": "python3"
  },
  "language_info": {
   "codemirror_mode": {
    "name": "ipython",
    "version": 3
   },
   "file_extension": ".py",
   "mimetype": "text/x-python",
   "name": "python",
   "nbconvert_exporter": "python",
   "pygments_lexer": "ipython3",
   "version": "3.8.8"
  },
  "vscode": {
   "interpreter": {
    "hash": "949777d72b0d2535278d3dc13498b2535136f6dfe0678499012e853ee9abcab1"
   }
  }
 },
 "nbformat": 4,
 "nbformat_minor": 5
}
