{
 "cells": [
  {
   "cell_type": "markdown",
   "id": "6aa3058e",
   "metadata": {},
   "source": [
    "## Can You Hear Me Now?\n",
    "\n",
    "Create a function \"getWithRetry\" that calls a function until it receives response that is not None, and then returns that response. If it continues to get no response, it should give up after a certain number of tries (to be decided by you) \n",
    "\n",
    "After filling out the \"getWithRetry\" function, run all of the cells in this notebook in order to test the following scenarios:\n",
    "- All services are up\n",
    "- All services are down\n",
    "- All services are down and making a request takes 0.1 seconds to execute\n",
    "\n",
    "What is the ideal number of retries before giving up? How do you know whether the service is down or you're just unlucky?"
   ]
  },
  {
   "cell_type": "code",
   "execution_count": 6,
   "id": "52439a5a",
   "metadata": {},
   "outputs": [],
   "source": [
    "import random\n",
    "import time"
   ]
  },
  {
   "cell_type": "code",
   "execution_count": 152,
   "id": "cecb0aac",
   "metadata": {},
   "outputs": [],
   "source": [
    "servicesAreUp = True"
   ]
  },
  {
   "cell_type": "code",
   "execution_count": 136,
   "id": "01d1f0d6",
   "metadata": {},
   "outputs": [],
   "source": [
    "servicesAreUp = True\n",
    "\n",
    "def getData50():\n",
    "    if servicesAreUp and random.random() < 0.5:\n",
    "        return 'You got the data! That only happens 50% of the time!'\n",
    "\n",
    "def getData25():\n",
    "    if servicesAreUp and random.random() < 0.25:\n",
    "        return 'You got the data! That only happens 25% of the time!'    \n",
    "\n",
    "def getData10():\n",
    "    if servicesAreUp and random.random() < 0.1:\n",
    "        return 'You got the data! That only happens 10% of the time!'"
   ]
  },
  {
   "cell_type": "code",
   "execution_count": 144,
   "id": "9a96f502",
   "metadata": {},
   "outputs": [],
   "source": [
    "def getWithRetry(dataFunc,retries=21):\n",
    "    if retries==0:\n",
    "        return None\n",
    "    return dataFunc() or getWithRetry(dataFunc,retries-1)"
   ]
  },
  {
   "cell_type": "code",
   "execution_count": 142,
   "id": "0994b5f1",
   "metadata": {},
   "outputs": [],
   "source": [
    "# Your code here!\n",
    "def getWithRetry(dataFunc):\n",
    "    value=None\n",
    "    x=0\n",
    "    while(value==None):\n",
    "        value=dataFunc()\n",
    "        x+=1\n",
    "        if x>20:\n",
    "            break\n",
    "    print(value)"
   ]
  },
  {
   "cell_type": "code",
   "execution_count": 145,
   "id": "84eb11cb",
   "metadata": {},
   "outputs": [
    {
     "data": {
      "text/plain": [
       "'You got the data! That only happens 50% of the time!'"
      ]
     },
     "execution_count": 145,
     "metadata": {},
     "output_type": "execute_result"
    }
   ],
   "source": [
    "# Should return 'You got the data! That only happens 50% of the time!'\n",
    "getWithRetry(getData50)"
   ]
  },
  {
   "cell_type": "code",
   "execution_count": 146,
   "id": "fd803ca8",
   "metadata": {},
   "outputs": [
    {
     "data": {
      "text/plain": [
       "'You got the data! That only happens 25% of the time!'"
      ]
     },
     "execution_count": 146,
     "metadata": {},
     "output_type": "execute_result"
    }
   ],
   "source": [
    "# Should return 'You got the data! That only happens 25% of the time!'\n",
    "getWithRetry(getData25)"
   ]
  },
  {
   "cell_type": "code",
   "execution_count": 147,
   "id": "5732135e",
   "metadata": {},
   "outputs": [
    {
     "data": {
      "text/plain": [
       "'You got the data! That only happens 10% of the time!'"
      ]
     },
     "execution_count": 147,
     "metadata": {},
     "output_type": "execute_result"
    }
   ],
   "source": [
    "# Should return 'You got the data! That only happens 10% of the time!'\n",
    "getWithRetry(getData10)"
   ]
  },
  {
   "cell_type": "code",
   "execution_count": 148,
   "id": "c8ee2bd0",
   "metadata": {},
   "outputs": [],
   "source": [
    "servicesAreUp = False"
   ]
  },
  {
   "cell_type": "code",
   "execution_count": 149,
   "id": "961a60ea",
   "metadata": {},
   "outputs": [],
   "source": [
    "# Returns None\n",
    "getWithRetry(getData50)"
   ]
  },
  {
   "cell_type": "code",
   "execution_count": 150,
   "id": "b009f04c",
   "metadata": {},
   "outputs": [],
   "source": [
    "# Returns None\n",
    "getWithRetry(getData25)"
   ]
  },
  {
   "cell_type": "code",
   "execution_count": 151,
   "id": "a4b67294",
   "metadata": {},
   "outputs": [],
   "source": [
    "# Returns None\n",
    "getWithRetry(getData10)"
   ]
  },
  {
   "cell_type": "code",
   "execution_count": 153,
   "id": "2ac6e378",
   "metadata": {},
   "outputs": [],
   "source": [
    "def getData50():\n",
    "    time.sleep(.1)\n",
    "    if servicesAreUp and random.random() < 0.5:\n",
    "        return 'You got the data! That only happens 50% of the time!'\n",
    "\n",
    "def getData25():\n",
    "    time.sleep(.1)\n",
    "    if servicesAreUp and random.random() < 0.25:\n",
    "        return 'You got the data! That only happens 25% of the time!'    \n",
    "\n",
    "def getData10():\n",
    "    time.sleep(.1)\n",
    "    if servicesAreUp and random.random() < 0.1:\n",
    "        return 'You got the data! That only happens 10% of the time!'"
   ]
  },
  {
   "cell_type": "code",
   "execution_count": 154,
   "id": "3f96192e",
   "metadata": {},
   "outputs": [
    {
     "data": {
      "text/plain": [
       "'You got the data! That only happens 50% of the time!'"
      ]
     },
     "execution_count": 154,
     "metadata": {},
     "output_type": "execute_result"
    }
   ],
   "source": [
    "# Returns None\n",
    "getWithRetry(getData50)"
   ]
  },
  {
   "cell_type": "code",
   "execution_count": 155,
   "id": "993f2d05",
   "metadata": {},
   "outputs": [
    {
     "data": {
      "text/plain": [
       "'You got the data! That only happens 25% of the time!'"
      ]
     },
     "execution_count": 155,
     "metadata": {},
     "output_type": "execute_result"
    }
   ],
   "source": [
    "getWithRetry(getData25)"
   ]
  },
  {
   "cell_type": "code",
   "execution_count": 156,
   "id": "b5a44926",
   "metadata": {},
   "outputs": [
    {
     "data": {
      "text/plain": [
       "'You got the data! That only happens 10% of the time!'"
      ]
     },
     "execution_count": 156,
     "metadata": {},
     "output_type": "execute_result"
    }
   ],
   "source": [
    "getWithRetry(getData10)"
   ]
  },
  {
   "cell_type": "markdown",
   "id": "cba287d0",
   "metadata": {},
   "source": [
    "Class"
   ]
  },
  {
   "cell_type": "markdown",
   "id": "26c08109",
   "metadata": {},
   "source": [
    "INSTANCE ATTRIBUTES"
   ]
  },
  {
   "cell_type": "code",
   "execution_count": 167,
   "id": "733fff24",
   "metadata": {},
   "outputs": [
    {
     "name": "stdout",
     "output_type": "stream",
     "text": [
      "Rover\n",
      "4\n"
     ]
    }
   ],
   "source": [
    "class Dog:\n",
    "    _legs=4\n",
    "    def __init__(self,name):\n",
    "        self.name=name\n",
    "    def speak(self):\n",
    "        print(name,\"has\",legs)\n",
    "    def getLegs(self):\n",
    "        return self._legs\n",
    "myDog=Dog(\"Rover\")\n",
    "print(myDog.name)\n",
    "print(myDog.getLegs())"
   ]
  },
  {
   "cell_type": "code",
   "execution_count": 165,
   "id": "80179569",
   "metadata": {},
   "outputs": [
    {
     "data": {
      "text/plain": [
       "4"
      ]
     },
     "execution_count": 165,
     "metadata": {},
     "output_type": "execute_result"
    }
   ],
   "source": [
    "Dog._legs"
   ]
  },
  {
   "cell_type": "code",
   "execution_count": 169,
   "id": "8f7ba0d8",
   "metadata": {},
   "outputs": [
    {
     "name": "stdout",
     "output_type": "stream",
     "text": [
      "Rover\n",
      "4\n",
      "Rover\n",
      "3\n"
     ]
    },
    {
     "data": {
      "text/plain": [
       "4"
      ]
     },
     "execution_count": 169,
     "metadata": {},
     "output_type": "execute_result"
    }
   ],
   "source": [
    "myDog=Dog(\"Rover\")\n",
    "print(myDog.name)\n",
    "print(myDog.getLegs())\n",
    "myDog._legs=3\n",
    "print(myDog.name)\n",
    "print(myDog.getLegs())"
   ]
  },
  {
   "cell_type": "markdown",
   "id": "e35d6f7f",
   "metadata": {},
   "source": [
    "Static and Instance Methods"
   ]
  },
  {
   "cell_type": "code",
   "execution_count": 177,
   "id": "add9396c",
   "metadata": {},
   "outputs": [
    {
     "name": "stdout",
     "output_type": "stream",
     "text": [
      "{'here', 'ryan', 'is', 'snetnence', 'hiim', 'another', 'sentence', 'to', 'a', 'want', 'i', 'add', 'ot'}\n"
     ]
    }
   ],
   "source": [
    "class WordSet:\n",
    "    replacePuncs=[\"!\",\".\",\",\",\"\\'\"]\n",
    "    def __init__(self):\n",
    "        self.words=set()\n",
    "    def addText(self, text):\n",
    "        text = WordSet.cleanText(text)\n",
    "        for word in text.split():\n",
    "            self.words.add(word)\n",
    "        \n",
    "    def cleanText(text):\n",
    "        for punc in WordSet.replacePuncs:\n",
    "            text=text.replace(punc,\"\")\n",
    "        return text.lower()\n",
    "wordSet=WordSet()\n",
    "\n",
    "wordSet.addText(\"Hi,I\\'m Ryan! Here is a snetnence I want to add!'\")\n",
    "wordSet.addText(\"Here is another sentence I want ot add.\")\n",
    "\n",
    "print(wordSet.words)\n",
    "    "
   ]
  },
  {
   "cell_type": "markdown",
   "id": "a251e32a",
   "metadata": {},
   "source": [
    "Decorator"
   ]
  },
  {
   "cell_type": "code",
   "execution_count": 178,
   "id": "ecc0047a",
   "metadata": {},
   "outputs": [
    {
     "name": "stdout",
     "output_type": "stream",
     "text": [
      "{'here', 'ryan', 'is', 'snetnence', 'hiim', 'another', 'sentence', 'to', 'a', 'want', 'i', 'add', 'ot'}\n"
     ]
    }
   ],
   "source": [
    "class WordSet:\n",
    "    replacePuncs=[\"!\",\".\",\",\",\"\\'\"]\n",
    "    def __init__(self):\n",
    "        self.words=set()\n",
    "    def addText(self, text):\n",
    "        text = self.cleanText(text)\n",
    "        for word in text.split():\n",
    "            self.words.add(word)\n",
    "    @staticmethod\n",
    "    def cleanText(text):\n",
    "        for punc in WordSet.replacePuncs:\n",
    "            text=text.replace(punc,\"\")\n",
    "        return text.lower()\n",
    "wordSet=WordSet()\n",
    "\n",
    "wordSet.addText(\"Hi,I\\'m Ryan! Here is a snetnence I want to add!'\")\n",
    "wordSet.addText(\"Here is another sentence I want ot add.\")\n",
    "\n",
    "print(wordSet.words)\n",
    "    "
   ]
  },
  {
   "cell_type": "markdown",
   "id": "4a87bd12",
   "metadata": {},
   "source": [
    "INHERITANCE"
   ]
  },
  {
   "cell_type": "code",
   "execution_count": 199,
   "id": "d1a70db0",
   "metadata": {},
   "outputs": [],
   "source": [
    "class Dog:\n",
    "    _legs=4\n",
    "    def __init__(self,name):\n",
    "        self.name=name\n",
    "    def speak(self):\n",
    "        print(self.name,\"barks\")\n",
    "    def getLegs(self):\n",
    "        return self._legs\n",
    "class Chihuahua(Dog):\n",
    "    def speak(self):\n",
    "        print(f'{self.name} says yap yap yap!')\n",
    "    def wagTail(self):\n",
    "        print(\"Vigorours Wagging\")"
   ]
  },
  {
   "cell_type": "code",
   "execution_count": 201,
   "id": "a66e8239",
   "metadata": {},
   "outputs": [
    {
     "name": "stdout",
     "output_type": "stream",
     "text": [
      "Roxy says yap yap yap!\n"
     ]
    }
   ],
   "source": [
    "c = Chihuahua(\"Roxy\")\n",
    "c.speak()"
   ]
  },
  {
   "cell_type": "code",
   "execution_count": 202,
   "id": "27db7ec6",
   "metadata": {},
   "outputs": [
    {
     "name": "stdout",
     "output_type": "stream",
     "text": [
      "rover barks\n",
      "Vigorours Wagging\n"
     ]
    }
   ],
   "source": [
    "dog = Dog(\"rover\")\n",
    "dog.speak()\n",
    "c.wagTail()"
   ]
  },
  {
   "cell_type": "markdown",
   "id": "6b563b0e",
   "metadata": {},
   "source": [
    "Extending Built in Class"
   ]
  },
  {
   "cell_type": "code",
   "execution_count": 206,
   "id": "144adad0",
   "metadata": {},
   "outputs": [
    {
     "name": "stdout",
     "output_type": "stream",
     "text": [
      "Unique List!\n"
     ]
    }
   ],
   "source": [
    "myList = list()\n",
    "class UniqueList(list):\n",
    "    \n",
    "    def __init__(self):\n",
    "        super().__init__()\n",
    "        self.someProperty = \"Unique List!\"\n",
    "    def append(self,item):\n",
    "        if item in self:\n",
    "            return\n",
    "        super().append(item)\n",
    "uniqueList = UniqueList()\n",
    "uniqueList.append(1)\n",
    "uniqueList.append(1)\n",
    "uniqueList.append(2)\n",
    "print(uniqueList.someProperty)"
   ]
  },
  {
   "cell_type": "code",
   "execution_count": null,
   "id": "9434acad",
   "metadata": {},
   "outputs": [],
   "source": []
  }
 ],
 "metadata": {
  "kernelspec": {
   "display_name": "Python 3",
   "language": "python",
   "name": "python3"
  },
  "language_info": {
   "codemirror_mode": {
    "name": "ipython",
    "version": 3
   },
   "file_extension": ".py",
   "mimetype": "text/x-python",
   "name": "python",
   "nbconvert_exporter": "python",
   "pygments_lexer": "ipython3",
   "version": "3.8.8"
  },
  "vscode": {
   "interpreter": {
    "hash": "949777d72b0d2535278d3dc13498b2535136f6dfe0678499012e853ee9abcab1"
   }
  }
 },
 "nbformat": 4,
 "nbformat_minor": 5
}
