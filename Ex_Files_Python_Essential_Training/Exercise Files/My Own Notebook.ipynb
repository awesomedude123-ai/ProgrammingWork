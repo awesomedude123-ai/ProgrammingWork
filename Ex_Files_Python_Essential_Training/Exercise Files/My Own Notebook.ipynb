{
 "cells": [
  {
   "cell_type": "markdown",
   "id": "157b52bd",
   "metadata": {},
   "source": [
    "Lists"
   ]
  },
  {
   "cell_type": "code",
   "execution_count": null,
   "id": "5dc1ac92",
   "metadata": {},
   "outputs": [],
   "source": []
  },
  {
   "cell_type": "code",
   "execution_count": 3,
   "id": "f5d14779",
   "metadata": {},
   "outputs": [
    {
     "name": "stdout",
     "output_type": "stream",
     "text": [
      "[1, 2, 3, 4]\n"
     ]
    }
   ],
   "source": [
    "l=[1,2,3,4]\n",
    "print(l)"
   ]
  },
  {
   "cell_type": "code",
   "execution_count": 4,
   "id": "b4a5561f",
   "metadata": {
    "scrolled": true
   },
   "outputs": [
    {
     "name": "stdout",
     "output_type": "stream",
     "text": [
      "[1, 2, 'hi', 4]\n"
     ]
    }
   ],
   "source": [
    "l=[1,2,\"hi\",4]\n",
    "print(l)"
   ]
  },
  {
   "cell_type": "code",
   "execution_count": 5,
   "id": "f08f3941",
   "metadata": {},
   "outputs": [
    {
     "name": "stdout",
     "output_type": "stream",
     "text": [
      "4\n"
     ]
    }
   ],
   "source": [
    "print(len(l))"
   ]
  },
  {
   "cell_type": "markdown",
   "id": "3e209b76",
   "metadata": {},
   "source": [
    "Sets"
   ]
  },
  {
   "cell_type": "code",
   "execution_count": 6,
   "id": "42b779b8",
   "metadata": {},
   "outputs": [
    {
     "name": "stdout",
     "output_type": "stream",
     "text": [
      "{1, 2, 3, 4}\n"
     ]
    }
   ],
   "source": [
    "se={1,2,3,4}\n",
    "print(se)"
   ]
  },
  {
   "cell_type": "code",
   "execution_count": 7,
   "id": "a1a823e6",
   "metadata": {},
   "outputs": [
    {
     "name": "stdout",
     "output_type": "stream",
     "text": [
      "{1, 2, 'hi', 'bye'}\n"
     ]
    }
   ],
   "source": [
    "se={1,2,\"hi\",\"bye\"}\n",
    "print(se)"
   ]
  },
  {
   "cell_type": "code",
   "execution_count": 8,
   "id": "de9b3a48",
   "metadata": {},
   "outputs": [
    {
     "name": "stdout",
     "output_type": "stream",
     "text": [
      "{1, 2, 3, 4}\n"
     ]
    }
   ],
   "source": [
    "print({1,2,3,3,4,1})"
   ]
  },
  {
   "cell_type": "markdown",
   "id": "07973b72",
   "metadata": {},
   "source": [
    "Tuples"
   ]
  },
  {
   "cell_type": "code",
   "execution_count": 9,
   "id": "6a8a1172",
   "metadata": {},
   "outputs": [
    {
     "name": "stdout",
     "output_type": "stream",
     "text": [
      "(1, 2, 3)\n"
     ]
    }
   ],
   "source": [
    "tup=(1,2,3)\n",
    "print(tup)"
   ]
  },
  {
   "cell_type": "code",
   "execution_count": 10,
   "id": "24e7e97c",
   "metadata": {},
   "outputs": [
    {
     "name": "stdout",
     "output_type": "stream",
     "text": [
      "False\n"
     ]
    }
   ],
   "source": [
    "print((1,2,3)==(3,2,1))"
   ]
  },
  {
   "cell_type": "code",
   "execution_count": 11,
   "id": "b2a771ab",
   "metadata": {},
   "outputs": [
    {
     "name": "stdout",
     "output_type": "stream",
     "text": [
      "True\n"
     ]
    }
   ],
   "source": [
    "print((3,2,1)==(3,2,1))"
   ]
  },
  {
   "cell_type": "markdown",
   "id": "d5639237",
   "metadata": {},
   "source": [
    "Dictionaries"
   ]
  },
  {
   "cell_type": "code",
   "execution_count": 12,
   "id": "e1f25c08",
   "metadata": {},
   "outputs": [
    {
     "name": "stdout",
     "output_type": "stream",
     "text": [
      "{1: 2, 2: 3, 'hi': 'bye'}\n"
     ]
    }
   ],
   "source": [
    "dict={1:2,2:3,\"hi\":\"bye\"}\n",
    "print(dict)"
   ]
  },
  {
   "cell_type": "code",
   "execution_count": 13,
   "id": "4e12a975",
   "metadata": {},
   "outputs": [
    {
     "name": "stdout",
     "output_type": "stream",
     "text": [
      "bye\n"
     ]
    }
   ],
   "source": [
    "print(dict[\"hi\"])"
   ]
  },
  {
   "cell_type": "markdown",
   "id": "bdf1860b",
   "metadata": {},
   "source": [
    "For Loops"
   ]
  },
  {
   "cell_type": "code",
   "execution_count": 21,
   "id": "308dd8c6",
   "metadata": {},
   "outputs": [
    {
     "name": "stdout",
     "output_type": "stream",
     "text": [
      "1\n",
      "2\n",
      "3\n",
      "4\n"
     ]
    }
   ],
   "source": [
    "a=[1,2,3,4]\n",
    "for i in a:\n",
    "    print(i) "
   ]
  },
  {
   "cell_type": "markdown",
   "id": "1756a98e",
   "metadata": {},
   "source": [
    "If else Statement"
   ]
  },
  {
   "cell_type": "code",
   "execution_count": 20,
   "id": "7c7b29cc",
   "metadata": {},
   "outputs": [
    {
     "name": "stdout",
     "output_type": "stream",
     "text": [
      "this is true\n",
      "also print this\n",
      "always printed\n"
     ]
    }
   ],
   "source": [
    "a = True\n",
    "if a:\n",
    "    print(\"this is true\")\n",
    "    print(\"also print this\")\n",
    "else:\n",
    "    print(\"this is false\")\n",
    "print(\"always printed\")"
   ]
  },
  {
   "cell_type": "markdown",
   "id": "455ae193",
   "metadata": {},
   "source": [
    "While Loops"
   ]
  },
  {
   "cell_type": "code",
   "execution_count": 22,
   "id": "a349736c",
   "metadata": {},
   "outputs": [
    {
     "name": "stdout",
     "output_type": "stream",
     "text": [
      "0\n",
      "1\n",
      "2\n",
      "3\n",
      "4\n"
     ]
    }
   ],
   "source": [
    "a=0\n",
    "while a<5:\n",
    "    print(a)\n",
    "    a+=1"
   ]
  },
  {
   "cell_type": "markdown",
   "id": "da912504",
   "metadata": {},
   "source": [
    "Functions"
   ]
  },
  {
   "cell_type": "code",
   "execution_count": 23,
   "id": "2b174e75",
   "metadata": {},
   "outputs": [
    {
     "name": "stdout",
     "output_type": "stream",
     "text": [
      "hello world\n"
     ]
    }
   ],
   "source": [
    "print(\"hello world\")"
   ]
  },
  {
   "cell_type": "code",
   "execution_count": 25,
   "id": "5fd5e708",
   "metadata": {},
   "outputs": [
    {
     "name": "stdout",
     "output_type": "stream",
     "text": [
      "9\n"
     ]
    }
   ],
   "source": [
    "def multiply_by_three(a):\n",
    "    return a*3\n",
    "\n",
    "print(multiply_by_three(3))"
   ]
  },
  {
   "cell_type": "code",
   "execution_count": 26,
   "id": "0eac63bf",
   "metadata": {},
   "outputs": [
    {
     "name": "stdout",
     "output_type": "stream",
     "text": [
      "6\n"
     ]
    }
   ],
   "source": [
    "def multiply(a,b):\n",
    "    return a*b\n",
    "print(multiply(2,3))"
   ]
  },
  {
   "cell_type": "code",
   "execution_count": 31,
   "id": "b2ca5838",
   "metadata": {},
   "outputs": [
    {
     "name": "stdout",
     "output_type": "stream",
     "text": [
      "[1, 2, 3, 4, 5]\n",
      "[1, 2, 3, 4, 5, 4]\n"
     ]
    }
   ],
   "source": [
    "a=[1,2,3,4,5]\n",
    "def append_for_list(li):\n",
    "    li.append(4)\n",
    "print(a)\n",
    "append_for_list(a)\n",
    "print(a)"
   ]
  },
  {
   "cell_type": "code",
   "execution_count": 32,
   "id": "b628efe8",
   "metadata": {},
   "outputs": [
    {
     "name": "stdout",
     "output_type": "stream",
     "text": [
      "hello world\n",
      "None\n"
     ]
    }
   ],
   "source": [
    "print(print(\"hello world\"))"
   ]
  },
  {
   "cell_type": "code",
   "execution_count": 33,
   "id": "b95f75f6",
   "metadata": {},
   "outputs": [
    {
     "data": {
      "text/plain": [
       "NoneType"
      ]
     },
     "execution_count": 33,
     "metadata": {},
     "output_type": "execute_result"
    }
   ],
   "source": [
    "type(None)"
   ]
  },
  {
   "cell_type": "markdown",
   "id": "069406eb",
   "metadata": {},
   "source": [
    "Classes"
   ]
  },
  {
   "cell_type": "code",
   "execution_count": 40,
   "id": "a932126a",
   "metadata": {},
   "outputs": [],
   "source": [
    "class Dog:\n",
    "    def __init__(self,name=\"rover\"):\n",
    "        self.name=name\n",
    "        self.legs=4\n",
    "        \n",
    "    def speak(self):\n",
    "        print(self.name + \" says bark\")"
   ]
  },
  {
   "cell_type": "code",
   "execution_count": 42,
   "id": "83a2c642",
   "metadata": {},
   "outputs": [
    {
     "name": "stdout",
     "output_type": "stream",
     "text": [
      "rover says bark\n"
     ]
    }
   ],
   "source": [
    "my_dog=Dog()\n",
    "my_dog.speak()"
   ]
  },
  {
   "cell_type": "code",
   "execution_count": 41,
   "id": "e3abd75f",
   "metadata": {},
   "outputs": [
    {
     "name": "stdout",
     "output_type": "stream",
     "text": [
      "Fluffy says bark\n"
     ]
    }
   ],
   "source": [
    "another_dog=Dog(\"Fluffy\")\n",
    "another_dog.speak()"
   ]
  },
  {
   "cell_type": "markdown",
   "id": "0debee76",
   "metadata": {},
   "source": [
    "Bases"
   ]
  },
  {
   "cell_type": "code",
   "execution_count": 43,
   "id": "31d623dc",
   "metadata": {},
   "outputs": [
    {
     "data": {
      "text/plain": [
       "4"
      ]
     },
     "execution_count": 43,
     "metadata": {},
     "output_type": "execute_result"
    }
   ],
   "source": [
    "int(\"100\",2)"
   ]
  },
  {
   "cell_type": "code",
   "execution_count": 44,
   "id": "630a7575",
   "metadata": {},
   "outputs": [
    {
     "data": {
      "text/plain": [
       "100"
      ]
     },
     "execution_count": 44,
     "metadata": {},
     "output_type": "execute_result"
    }
   ],
   "source": [
    "int(\"100\",10)"
   ]
  },
  {
   "cell_type": "code",
   "execution_count": 48,
   "id": "adf07054",
   "metadata": {},
   "outputs": [
    {
     "data": {
      "text/plain": [
       "427"
      ]
     },
     "execution_count": 48,
     "metadata": {},
     "output_type": "execute_result"
    }
   ],
   "source": [
    "int(\"1ab\",16)"
   ]
  },
  {
   "cell_type": "markdown",
   "id": "c46dc128",
   "metadata": {},
   "source": [
    "Decimal"
   ]
  },
  {
   "cell_type": "code",
   "execution_count": 49,
   "id": "befb0fde",
   "metadata": {},
   "outputs": [],
   "source": [
    "from decimal import Decimal, getcontext"
   ]
  },
  {
   "cell_type": "code",
   "execution_count": 50,
   "id": "f7b07de1",
   "metadata": {},
   "outputs": [
    {
     "data": {
      "text/plain": [
       "Context(prec=28, rounding=ROUND_HALF_EVEN, Emin=-999999, Emax=999999, capitals=1, clamp=0, flags=[], traps=[InvalidOperation, DivisionByZero, Overflow])"
      ]
     },
     "execution_count": 50,
     "metadata": {},
     "output_type": "execute_result"
    }
   ],
   "source": [
    "getcontext()"
   ]
  },
  {
   "cell_type": "code",
   "execution_count": 61,
   "id": "2e0a6d07",
   "metadata": {},
   "outputs": [
    {
     "data": {
      "text/plain": [
       "Decimal('0.3333')"
      ]
     },
     "execution_count": 61,
     "metadata": {},
     "output_type": "execute_result"
    }
   ],
   "source": [
    "getcontext().prec=4\n",
    "getcontext()\n",
    "Decimal(1)/Decimal(3)"
   ]
  },
  {
   "cell_type": "code",
   "execution_count": 58,
   "id": "493e8ae7",
   "metadata": {},
   "outputs": [
    {
     "data": {
      "text/plain": [
       "Context(prec=28, rounding=ROUND_HALF_EVEN, Emin=-999999, Emax=999999, capitals=1, clamp=0, flags=[], traps=[InvalidOperation, DivisionByZero, Overflow])"
      ]
     },
     "execution_count": 58,
     "metadata": {},
     "output_type": "execute_result"
    }
   ],
   "source": [
    "getcontext()"
   ]
  },
  {
   "cell_type": "code",
   "execution_count": 60,
   "id": "60f7ee2d",
   "metadata": {},
   "outputs": [
    {
     "data": {
      "text/plain": [
       "Decimal('0.3333333333333333333333333333')"
      ]
     },
     "execution_count": 60,
     "metadata": {},
     "output_type": "execute_result"
    }
   ],
   "source": []
  },
  {
   "cell_type": "markdown",
   "id": "b9a8c81a",
   "metadata": {},
   "source": [
    "Boolean"
   ]
  },
  {
   "cell_type": "code",
   "execution_count": 62,
   "id": "96cf1acc",
   "metadata": {},
   "outputs": [
    {
     "data": {
      "text/plain": [
       "False"
      ]
     },
     "execution_count": 62,
     "metadata": {},
     "output_type": "execute_result"
    }
   ],
   "source": [
    "bool(1)\n",
    "bool(0)"
   ]
  },
  {
   "cell_type": "code",
   "execution_count": 63,
   "id": "de69673a",
   "metadata": {},
   "outputs": [
    {
     "data": {
      "text/plain": [
       "True"
      ]
     },
     "execution_count": 63,
     "metadata": {},
     "output_type": "execute_result"
    }
   ],
   "source": [
    "bool(1)"
   ]
  },
  {
   "cell_type": "code",
   "execution_count": 64,
   "id": "bb141118",
   "metadata": {},
   "outputs": [
    {
     "data": {
      "text/plain": [
       "False"
      ]
     },
     "execution_count": 64,
     "metadata": {},
     "output_type": "execute_result"
    }
   ],
   "source": [
    "bool(0)"
   ]
  },
  {
   "cell_type": "code",
   "execution_count": 65,
   "id": "a9befbe7",
   "metadata": {},
   "outputs": [
    {
     "data": {
      "text/plain": [
       "False"
      ]
     },
     "execution_count": 65,
     "metadata": {},
     "output_type": "execute_result"
    }
   ],
   "source": [
    "bool(0.0j)"
   ]
  },
  {
   "cell_type": "code",
   "execution_count": 66,
   "id": "aaa70547",
   "metadata": {},
   "outputs": [
    {
     "data": {
      "text/plain": [
       "True"
      ]
     },
     "execution_count": 66,
     "metadata": {},
     "output_type": "execute_result"
    }
   ],
   "source": [
    "bool(1.00)"
   ]
  },
  {
   "cell_type": "code",
   "execution_count": 67,
   "id": "ef2d34b9",
   "metadata": {},
   "outputs": [
    {
     "data": {
      "text/plain": [
       "True"
      ]
     },
     "execution_count": 67,
     "metadata": {},
     "output_type": "execute_result"
    }
   ],
   "source": [
    "bool(\"False\")"
   ]
  },
  {
   "cell_type": "code",
   "execution_count": 68,
   "id": "65130b84",
   "metadata": {},
   "outputs": [
    {
     "data": {
      "text/plain": [
       "False"
      ]
     },
     "execution_count": 68,
     "metadata": {},
     "output_type": "execute_result"
    }
   ],
   "source": [
    "bool(\"\")"
   ]
  },
  {
   "cell_type": "code",
   "execution_count": 69,
   "id": "7b28f63f",
   "metadata": {},
   "outputs": [
    {
     "data": {
      "text/plain": [
       "False"
      ]
     },
     "execution_count": 69,
     "metadata": {},
     "output_type": "execute_result"
    }
   ],
   "source": [
    "bool([])"
   ]
  },
  {
   "cell_type": "code",
   "execution_count": 70,
   "id": "3dfb2bd7",
   "metadata": {},
   "outputs": [
    {
     "data": {
      "text/plain": [
       "True"
      ]
     },
     "execution_count": 70,
     "metadata": {},
     "output_type": "execute_result"
    }
   ],
   "source": [
    "bool([1])"
   ]
  },
  {
   "cell_type": "code",
   "execution_count": 71,
   "id": "aa3fc06b",
   "metadata": {},
   "outputs": [
    {
     "data": {
      "text/plain": [
       "False"
      ]
     },
     "execution_count": 71,
     "metadata": {},
     "output_type": "execute_result"
    }
   ],
   "source": [
    "bool(None)"
   ]
  },
  {
   "cell_type": "code",
   "execution_count": 72,
   "id": "1d84ca37",
   "metadata": {},
   "outputs": [
    {
     "name": "stdout",
     "output_type": "stream",
     "text": [
      "[1, 2]\n"
     ]
    }
   ],
   "source": [
    "li=[1,2]\n",
    "if li:\n",
    "    print(li)"
   ]
  },
  {
   "cell_type": "markdown",
   "id": "7774eb16",
   "metadata": {},
   "source": [
    "Formatting String"
   ]
  },
  {
   "cell_type": "code",
   "execution_count": 73,
   "id": "8b9b0d62",
   "metadata": {},
   "outputs": [
    {
     "data": {
      "text/plain": [
       "'Hi, my name is 5'"
      ]
     },
     "execution_count": 73,
     "metadata": {},
     "output_type": "execute_result"
    }
   ],
   "source": [
    "f\"Hi, my name is {5}\""
   ]
  },
  {
   "cell_type": "code",
   "execution_count": 74,
   "id": "b9524f35",
   "metadata": {},
   "outputs": [
    {
     "data": {
      "text/plain": [
       "'My number is 2 and twice that is 10'"
      ]
     },
     "execution_count": 74,
     "metadata": {},
     "output_type": "execute_result"
    }
   ],
   "source": [
    "f\"My number is {2} and twice that is {2*5}\""
   ]
  },
  {
   "cell_type": "code",
   "execution_count": 75,
   "id": "b251b6bc",
   "metadata": {},
   "outputs": [],
   "source": [
    "import math"
   ]
  },
  {
   "cell_type": "code",
   "execution_count": 76,
   "id": "687657f2",
   "metadata": {},
   "outputs": [
    {
     "data": {
      "text/plain": [
       "'pi is 3.14'"
      ]
     },
     "execution_count": 76,
     "metadata": {},
     "output_type": "execute_result"
    }
   ],
   "source": [
    "f\"pi is {round(math.pi,2)}\""
   ]
  },
  {
   "cell_type": "code",
   "execution_count": 77,
   "id": "95e46ad7",
   "metadata": {},
   "outputs": [
    {
     "data": {
      "text/plain": [
       "'pi is 3.14'"
      ]
     },
     "execution_count": 77,
     "metadata": {},
     "output_type": "execute_result"
    }
   ],
   "source": [
    "\"pi is {}\".format(round(math.pi,2))"
   ]
  },
  {
   "cell_type": "code",
   "execution_count": 81,
   "id": "9148a0f7",
   "metadata": {},
   "outputs": [],
   "source": [
    "my_string ='''\n",
    "This is so cool. \\\"HI\"\n",
    "'''"
   ]
  },
  {
   "cell_type": "code",
   "execution_count": 82,
   "id": "860e48d3",
   "metadata": {},
   "outputs": [
    {
     "name": "stdout",
     "output_type": "stream",
     "text": [
      "\n",
      "This is so cool. \"HI\"\n",
      "\n"
     ]
    }
   ],
   "source": [
    "print(my_string)"
   ]
  },
  {
   "cell_type": "markdown",
   "id": "5756f852",
   "metadata": {},
   "source": [
    "Bytes"
   ]
  },
  {
   "cell_type": "code",
   "execution_count": 83,
   "id": "52aa0c5a",
   "metadata": {},
   "outputs": [
    {
     "data": {
      "text/plain": [
       "b'\\x00\\x00\\x00\\x00'"
      ]
     },
     "execution_count": 83,
     "metadata": {},
     "output_type": "execute_result"
    }
   ],
   "source": [
    "bytes(4)"
   ]
  },
  {
   "cell_type": "code",
   "execution_count": 87,
   "id": "ac0a280b",
   "metadata": {},
   "outputs": [
    {
     "data": {
      "text/plain": [
       "b';)'"
      ]
     },
     "execution_count": 87,
     "metadata": {},
     "output_type": "execute_result"
    }
   ],
   "source": [
    "smile_bytes=bytes(\";)\",\"utf-8\")\n",
    "smile_bytes"
   ]
  },
  {
   "cell_type": "markdown",
   "id": "3b743872",
   "metadata": {},
   "source": []
  },
  {
   "cell_type": "code",
   "execution_count": 88,
   "id": "319d2163",
   "metadata": {},
   "outputs": [
    {
     "data": {
      "text/plain": [
       "';)'"
      ]
     },
     "execution_count": 88,
     "metadata": {},
     "output_type": "execute_result"
    }
   ],
   "source": [
    "smile_bytes.decode(\"utf-8\")"
   ]
  },
  {
   "cell_type": "code",
   "execution_count": 91,
   "id": "5f572f85",
   "metadata": {},
   "outputs": [],
   "source": [
    "smile_bytes=bytearray(\"10\",\"utf-8\")"
   ]
  },
  {
   "cell_type": "code",
   "execution_count": 92,
   "id": "9dedd371",
   "metadata": {},
   "outputs": [
    {
     "data": {
      "text/plain": [
       "bytearray(b'10')"
      ]
     },
     "execution_count": 92,
     "metadata": {},
     "output_type": "execute_result"
    }
   ],
   "source": [
    "smile_bytes"
   ]
  },
  {
   "cell_type": "code",
   "execution_count": 96,
   "id": "a09bf8bd",
   "metadata": {},
   "outputs": [],
   "source": [
    "smile_bytes[0]=int(\"10\",16)"
   ]
  },
  {
   "cell_type": "markdown",
   "id": "9262ce6b",
   "metadata": {},
   "source": []
  },
  {
   "cell_type": "code",
   "execution_count": 97,
   "id": "4b4d97d0",
   "metadata": {},
   "outputs": [
    {
     "data": {
      "text/plain": [
       "'\\x100'"
      ]
     },
     "execution_count": 97,
     "metadata": {},
     "output_type": "execute_result"
    }
   ],
   "source": [
    "smile_bytes.decode(\"utf-8\")"
   ]
  },
  {
   "cell_type": "markdown",
   "id": "8e446474",
   "metadata": {},
   "source": [
    "List Slicing"
   ]
  },
  {
   "cell_type": "code",
   "execution_count": null,
   "id": "62e39894",
   "metadata": {},
   "outputs": [],
   "source": []
  },
  {
   "cell_type": "code",
   "execution_count": 6,
   "id": "a636678e",
   "metadata": {},
   "outputs": [
    {
     "data": {
      "text/plain": [
       "[2, 4]"
      ]
     },
     "execution_count": 6,
     "metadata": {},
     "output_type": "execute_result"
    }
   ],
   "source": [
    "li=[1,2,3,4]\n",
    "li[1:4:2]"
   ]
  },
  {
   "cell_type": "code",
   "execution_count": 12,
   "id": "9b3e450a",
   "metadata": {},
   "outputs": [
    {
     "data": {
      "text/plain": [
       "[9,\n",
       " 7,\n",
       " 5,\n",
       " 3,\n",
       " 1,\n",
       " 9,\n",
       " 7,\n",
       " 5,\n",
       " 3,\n",
       " 1,\n",
       " 9,\n",
       " 7,\n",
       " 5,\n",
       " 3,\n",
       " 1,\n",
       " 9,\n",
       " 7,\n",
       " 5,\n",
       " 3,\n",
       " 1,\n",
       " 9,\n",
       " 7,\n",
       " 5,\n",
       " 3,\n",
       " 1,\n",
       " 9,\n",
       " 7,\n",
       " 5,\n",
       " 3,\n",
       " 1,\n",
       " 4,\n",
       " 2]"
      ]
     },
     "execution_count": 12,
     "metadata": {},
     "output_type": "execute_result"
    }
   ],
   "source": [
    "for i in range(10):\n",
    "    li.append(i)\n",
    "li[::-2]"
   ]
  },
  {
   "cell_type": "markdown",
   "id": "63c5b977",
   "metadata": {},
   "source": [
    "Modifying Lists"
   ]
  },
  {
   "cell_type": "code",
   "execution_count": 15,
   "id": "33849159",
   "metadata": {},
   "outputs": [
    {
     "data": {
      "text/plain": [
       "9"
      ]
     },
     "execution_count": 15,
     "metadata": {},
     "output_type": "execute_result"
    }
   ],
   "source": [
    "li.insert(2,4)\n",
    "li.pop()"
   ]
  },
  {
   "cell_type": "code",
   "execution_count": 16,
   "id": "f40837df",
   "metadata": {},
   "outputs": [
    {
     "name": "stdout",
     "output_type": "stream",
     "text": [
      "8\n",
      "7\n",
      "6\n",
      "5\n",
      "4\n",
      "3\n",
      "2\n",
      "1\n",
      "0\n",
      "9\n",
      "8\n",
      "7\n",
      "6\n",
      "5\n",
      "4\n",
      "3\n",
      "2\n",
      "1\n",
      "0\n",
      "9\n",
      "8\n",
      "7\n",
      "6\n",
      "5\n",
      "4\n",
      "3\n",
      "2\n",
      "1\n",
      "0\n",
      "9\n",
      "8\n",
      "7\n",
      "6\n",
      "5\n",
      "4\n",
      "3\n",
      "2\n",
      "1\n",
      "0\n",
      "9\n",
      "8\n",
      "7\n",
      "6\n",
      "5\n",
      "4\n",
      "3\n",
      "2\n",
      "1\n",
      "0\n",
      "9\n",
      "8\n",
      "7\n",
      "6\n",
      "5\n",
      "4\n",
      "3\n",
      "2\n",
      "1\n",
      "0\n",
      "4\n",
      "4\n",
      "3\n",
      "4\n",
      "4\n",
      "2\n",
      "1\n"
     ]
    }
   ],
   "source": [
    "while len(li)>0:\n",
    "    print(li.pop())"
   ]
  },
  {
   "cell_type": "code",
   "execution_count": 17,
   "id": "b94fad6a",
   "metadata": {},
   "outputs": [
    {
     "data": {
      "text/plain": [
       "[]"
      ]
     },
     "execution_count": 17,
     "metadata": {},
     "output_type": "execute_result"
    }
   ],
   "source": [
    "li"
   ]
  },
  {
   "cell_type": "code",
   "execution_count": 20,
   "id": "199842fa",
   "metadata": {},
   "outputs": [
    {
     "name": "stdout",
     "output_type": "stream",
     "text": [
      "[1, 2, 3, 4, 5, 6] [1, 2, 3, 4, 5]\n"
     ]
    }
   ],
   "source": [
    "a=[1,2,3,4,5]\n",
    "b=list(a)\n",
    "a.append(6)\n",
    "print(a,b)"
   ]
  },
  {
   "cell_type": "markdown",
   "id": "63b3d758",
   "metadata": {},
   "source": [
    "Sets"
   ]
  },
  {
   "cell_type": "code",
   "execution_count": 21,
   "id": "9bec1bd8",
   "metadata": {},
   "outputs": [
    {
     "data": {
      "text/plain": [
       "{1, 2, 3, 4}"
      ]
     },
     "execution_count": 21,
     "metadata": {},
     "output_type": "execute_result"
    }
   ],
   "source": [
    "s={1,2,3,4}\n",
    "s"
   ]
  },
  {
   "cell_type": "code",
   "execution_count": 24,
   "id": "81242463",
   "metadata": {},
   "outputs": [
    {
     "data": {
      "text/plain": [
       "{1, 2, 3}"
      ]
     },
     "execution_count": 24,
     "metadata": {},
     "output_type": "execute_result"
    }
   ],
   "source": [
    "s=set((1,2,3))\n",
    "s"
   ]
  },
  {
   "cell_type": "code",
   "execution_count": 25,
   "id": "9548a36d",
   "metadata": {},
   "outputs": [],
   "source": [
    "l=[1,2,3,1,2,3,41,3,5,2,1]\n",
    "l=list(set(l))"
   ]
  },
  {
   "cell_type": "code",
   "execution_count": 26,
   "id": "806ae3a9",
   "metadata": {},
   "outputs": [
    {
     "data": {
      "text/plain": [
       "[1, 2, 3, 5, 41]"
      ]
     },
     "execution_count": 26,
     "metadata": {},
     "output_type": "execute_result"
    }
   ],
   "source": [
    "l"
   ]
  },
  {
   "cell_type": "code",
   "execution_count": 27,
   "id": "10eafb25",
   "metadata": {},
   "outputs": [
    {
     "ename": "TypeError",
     "evalue": "'set' object is not subscriptable",
     "output_type": "error",
     "traceback": [
      "\u001b[0;31m---------------------------------------------------------------------------\u001b[0m",
      "\u001b[0;31mTypeError\u001b[0m                                 Traceback (most recent call last)",
      "\u001b[0;32m<ipython-input-27-c9c96910e542>\u001b[0m in \u001b[0;36m<module>\u001b[0;34m\u001b[0m\n\u001b[0;32m----> 1\u001b[0;31m \u001b[0ms\u001b[0m\u001b[0;34m[\u001b[0m\u001b[0;36m0\u001b[0m\u001b[0;34m]\u001b[0m\u001b[0;34m\u001b[0m\u001b[0;34m\u001b[0m\u001b[0m\n\u001b[0m",
      "\u001b[0;31mTypeError\u001b[0m: 'set' object is not subscriptable"
     ]
    }
   ],
   "source": [
    "s[0]"
   ]
  },
  {
   "cell_type": "code",
   "execution_count": 28,
   "id": "6b064201",
   "metadata": {},
   "outputs": [
    {
     "name": "stderr",
     "output_type": "stream",
     "text": [
      "<>:2: SyntaxWarning: 'int' object is not subscriptable; perhaps you missed a comma?\n",
      "<>:2: SyntaxWarning: 'int' object is not subscriptable; perhaps you missed a comma?\n",
      "<ipython-input-28-0a7194f7a5fe>:2: SyntaxWarning: 'int' object is not subscriptable; perhaps you missed a comma?\n",
      "  1[0]\n"
     ]
    },
    {
     "ename": "TypeError",
     "evalue": "'int' object is not subscriptable",
     "output_type": "error",
     "traceback": [
      "\u001b[0;31m---------------------------------------------------------------------------\u001b[0m",
      "\u001b[0;31mTypeError\u001b[0m                                 Traceback (most recent call last)",
      "\u001b[0;32m<ipython-input-28-0a7194f7a5fe>\u001b[0m in \u001b[0;36m<module>\u001b[0;34m\u001b[0m\n\u001b[1;32m      1\u001b[0m \u001b[0mnumber\u001b[0m\u001b[0;34m=\u001b[0m\u001b[0;36m1\u001b[0m\u001b[0;34m\u001b[0m\u001b[0;34m\u001b[0m\u001b[0m\n\u001b[0;32m----> 2\u001b[0;31m \u001b[0;36m1\u001b[0m\u001b[0;34m[\u001b[0m\u001b[0;36m0\u001b[0m\u001b[0;34m]\u001b[0m\u001b[0;34m\u001b[0m\u001b[0;34m\u001b[0m\u001b[0m\n\u001b[0m",
      "\u001b[0;31mTypeError\u001b[0m: 'int' object is not subscriptable"
     ]
    }
   ],
   "source": [
    "number=1\n",
    "1[0]"
   ]
  },
  {
   "cell_type": "code",
   "execution_count": 30,
   "id": "9943f4e6",
   "metadata": {},
   "outputs": [],
   "source": [
    "s.add(9)"
   ]
  },
  {
   "cell_type": "code",
   "execution_count": 31,
   "id": "b313d613",
   "metadata": {},
   "outputs": [
    {
     "data": {
      "text/plain": [
       "{1, 2, 3, 9}"
      ]
     },
     "execution_count": 31,
     "metadata": {},
     "output_type": "execute_result"
    }
   ],
   "source": [
    "s"
   ]
  },
  {
   "cell_type": "code",
   "execution_count": 32,
   "id": "f9c12b37",
   "metadata": {},
   "outputs": [
    {
     "data": {
      "text/plain": [
       "True"
      ]
     },
     "execution_count": 32,
     "metadata": {},
     "output_type": "execute_result"
    }
   ],
   "source": [
    "1 in s"
   ]
  },
  {
   "cell_type": "code",
   "execution_count": 33,
   "id": "d270a1a1",
   "metadata": {},
   "outputs": [
    {
     "data": {
      "text/plain": [
       "False"
      ]
     },
     "execution_count": 33,
     "metadata": {},
     "output_type": "execute_result"
    }
   ],
   "source": [
    "4 in s"
   ]
  },
  {
   "cell_type": "code",
   "execution_count": 34,
   "id": "d2a7a0c0",
   "metadata": {},
   "outputs": [
    {
     "data": {
      "text/plain": [
       "4"
      ]
     },
     "execution_count": 34,
     "metadata": {},
     "output_type": "execute_result"
    }
   ],
   "source": [
    "len(s)"
   ]
  },
  {
   "cell_type": "code",
   "execution_count": 36,
   "id": "fb31c7ae",
   "metadata": {},
   "outputs": [
    {
     "data": {
      "text/plain": [
       "2"
      ]
     },
     "execution_count": 36,
     "metadata": {},
     "output_type": "execute_result"
    }
   ],
   "source": [
    "s.pop()"
   ]
  },
  {
   "cell_type": "code",
   "execution_count": 37,
   "id": "9a2f8091",
   "metadata": {},
   "outputs": [],
   "source": [
    "s.add(4)\n",
    "s.add(1)\n",
    "s.add(2)"
   ]
  },
  {
   "cell_type": "code",
   "execution_count": 38,
   "id": "3b328450",
   "metadata": {},
   "outputs": [
    {
     "name": "stdout",
     "output_type": "stream",
     "text": [
      "1\n",
      "2\n",
      "3\n",
      "4\n",
      "9\n"
     ]
    }
   ],
   "source": [
    "for i in s:\n",
    "    print(i)"
   ]
  },
  {
   "cell_type": "code",
   "execution_count": 39,
   "id": "6f9ddaa2",
   "metadata": {},
   "outputs": [
    {
     "data": {
      "text/plain": [
       "3"
      ]
     },
     "execution_count": 39,
     "metadata": {},
     "output_type": "execute_result"
    }
   ],
   "source": [
    "s.pop()"
   ]
  },
  {
   "cell_type": "code",
   "execution_count": 40,
   "id": "683d7e79",
   "metadata": {},
   "outputs": [
    {
     "data": {
      "text/plain": [
       "{1, 2, 4, 9}"
      ]
     },
     "execution_count": 40,
     "metadata": {},
     "output_type": "execute_result"
    }
   ],
   "source": [
    "s"
   ]
  },
  {
   "cell_type": "code",
   "execution_count": 41,
   "id": "605c41ec",
   "metadata": {},
   "outputs": [],
   "source": [
    "s.add(3)"
   ]
  },
  {
   "cell_type": "code",
   "execution_count": 42,
   "id": "2d7fda37",
   "metadata": {},
   "outputs": [
    {
     "data": {
      "text/plain": [
       "{1, 2, 3, 4, 9}"
      ]
     },
     "execution_count": 42,
     "metadata": {},
     "output_type": "execute_result"
    }
   ],
   "source": [
    "s"
   ]
  },
  {
   "cell_type": "markdown",
   "id": "165ba817",
   "metadata": {},
   "source": [
    "Tuples"
   ]
  },
  {
   "cell_type": "code",
   "execution_count": 43,
   "id": "a0bd338d",
   "metadata": {},
   "outputs": [
    {
     "data": {
      "text/plain": [
       "(1, 2, 3, 4)"
      ]
     },
     "execution_count": 43,
     "metadata": {},
     "output_type": "execute_result"
    }
   ],
   "source": [
    "t=(1,2,3,4)\n",
    "t"
   ]
  },
  {
   "cell_type": "code",
   "execution_count": 44,
   "id": "b83a99dc",
   "metadata": {},
   "outputs": [
    {
     "data": {
      "text/plain": [
       "1"
      ]
     },
     "execution_count": 44,
     "metadata": {},
     "output_type": "execute_result"
    }
   ],
   "source": [
    "t[0]"
   ]
  },
  {
   "cell_type": "code",
   "execution_count": 45,
   "id": "afb78de0",
   "metadata": {},
   "outputs": [
    {
     "ename": "TypeError",
     "evalue": "'tuple' object does not support item assignment",
     "output_type": "error",
     "traceback": [
      "\u001b[0;31m---------------------------------------------------------------------------\u001b[0m",
      "\u001b[0;31mTypeError\u001b[0m                                 Traceback (most recent call last)",
      "\u001b[0;32m<ipython-input-45-531e22094236>\u001b[0m in \u001b[0;36m<module>\u001b[0;34m\u001b[0m\n\u001b[0;32m----> 1\u001b[0;31m \u001b[0mt\u001b[0m\u001b[0;34m[\u001b[0m\u001b[0;36m0\u001b[0m\u001b[0;34m]\u001b[0m\u001b[0;34m=\u001b[0m\u001b[0;36m1\u001b[0m\u001b[0;34m\u001b[0m\u001b[0;34m\u001b[0m\u001b[0m\n\u001b[0m",
      "\u001b[0;31mTypeError\u001b[0m: 'tuple' object does not support item assignment"
     ]
    }
   ],
   "source": [
    "t[0]=1"
   ]
  },
  {
   "cell_type": "code",
   "execution_count": 46,
   "id": "5f09fd66",
   "metadata": {},
   "outputs": [
    {
     "data": {
      "text/plain": [
       "tuple"
      ]
     },
     "execution_count": 46,
     "metadata": {},
     "output_type": "execute_result"
    }
   ],
   "source": [
    "def return_multiple_value():\n",
    "    return 1,2,3\n",
    "type(return_multiple_value())"
   ]
  },
  {
   "cell_type": "code",
   "execution_count": 47,
   "id": "6d1085c3",
   "metadata": {},
   "outputs": [],
   "source": [
    "t=1,2,3"
   ]
  },
  {
   "cell_type": "code",
   "execution_count": 48,
   "id": "4a888875",
   "metadata": {},
   "outputs": [
    {
     "data": {
      "text/plain": [
       "(1, 2, 3)"
      ]
     },
     "execution_count": 48,
     "metadata": {},
     "output_type": "execute_result"
    }
   ],
   "source": [
    "t"
   ]
  },
  {
   "cell_type": "code",
   "execution_count": 49,
   "id": "6f458b08",
   "metadata": {},
   "outputs": [
    {
     "data": {
      "text/plain": [
       "tuple"
      ]
     },
     "execution_count": 49,
     "metadata": {},
     "output_type": "execute_result"
    }
   ],
   "source": [
    "type(t)"
   ]
  },
  {
   "cell_type": "code",
   "execution_count": 51,
   "id": "8fcb9d4f",
   "metadata": {},
   "outputs": [
    {
     "name": "stdout",
     "output_type": "stream",
     "text": [
      "1 2 3\n"
     ]
    }
   ],
   "source": [
    "a,b,c=return_multiple_value()\n",
    "print(a,b,c)"
   ]
  },
  {
   "cell_type": "markdown",
   "id": "d3c8a86a",
   "metadata": {},
   "source": [
    "Dictionaries"
   ]
  },
  {
   "cell_type": "code",
   "execution_count": 52,
   "id": "49cc84e8",
   "metadata": {},
   "outputs": [
    {
     "data": {
      "text/plain": [
       "{'a': 'aardvark', 'b': 'bear', 'c': 'cat'}"
      ]
     },
     "execution_count": 52,
     "metadata": {},
     "output_type": "execute_result"
    }
   ],
   "source": [
    "animals = {\"a\":\"aardvark\", \"b\":\"bear\", \"c\":\"cat\",}\n",
    "animals"
   ]
  },
  {
   "cell_type": "code",
   "execution_count": 54,
   "id": "347ec0b6",
   "metadata": {},
   "outputs": [
    {
     "data": {
      "text/plain": [
       "'aardvark'"
      ]
     },
     "execution_count": 54,
     "metadata": {},
     "output_type": "execute_result"
    }
   ],
   "source": [
    "animals[\"a\"]"
   ]
  },
  {
   "cell_type": "code",
   "execution_count": 56,
   "id": "f0ef42d3",
   "metadata": {},
   "outputs": [],
   "source": [
    "animals[\"d\"]=\"dog\""
   ]
  },
  {
   "cell_type": "code",
   "execution_count": 57,
   "id": "7b9e2673",
   "metadata": {},
   "outputs": [
    {
     "data": {
      "text/plain": [
       "'dog'"
      ]
     },
     "execution_count": 57,
     "metadata": {},
     "output_type": "execute_result"
    }
   ],
   "source": [
    "animals[\"d\"]"
   ]
  },
  {
   "cell_type": "code",
   "execution_count": 60,
   "id": "8746900a",
   "metadata": {},
   "outputs": [
    {
     "data": {
      "text/plain": [
       "dict_keys(['a', 'b', 'c', 'd'])"
      ]
     },
     "execution_count": 60,
     "metadata": {},
     "output_type": "execute_result"
    }
   ],
   "source": [
    "animals.keys()"
   ]
  },
  {
   "cell_type": "code",
   "execution_count": 61,
   "id": "42c296c6",
   "metadata": {},
   "outputs": [
    {
     "data": {
      "text/plain": [
       "'aardvark'"
      ]
     },
     "execution_count": 61,
     "metadata": {},
     "output_type": "execute_result"
    }
   ],
   "source": [
    "animals.get(\"a\")"
   ]
  },
  {
   "cell_type": "code",
   "execution_count": 62,
   "id": "2e472dde",
   "metadata": {},
   "outputs": [
    {
     "data": {
      "text/plain": [
       "'elephant'"
      ]
     },
     "execution_count": 62,
     "metadata": {},
     "output_type": "execute_result"
    }
   ],
   "source": [
    "animals.get(\"e\",\"elephant\")"
   ]
  },
  {
   "cell_type": "code",
   "execution_count": 63,
   "id": "765f6d8b",
   "metadata": {},
   "outputs": [
    {
     "data": {
      "text/plain": [
       "4"
      ]
     },
     "execution_count": 63,
     "metadata": {},
     "output_type": "execute_result"
    }
   ],
   "source": [
    "len(animals)"
   ]
  },
  {
   "cell_type": "code",
   "execution_count": 64,
   "id": "51f4d760",
   "metadata": {},
   "outputs": [
    {
     "data": {
      "text/plain": [
       "{'a': ['aardvark', 'antelope'], 'b': ['bear']}"
      ]
     },
     "execution_count": 64,
     "metadata": {},
     "output_type": "execute_result"
    }
   ],
   "source": [
    "animals = {\"a\":[\"aardvark\",\"antelope\"], \"b\":[\"bear\"],}\n",
    "animals"
   ]
  },
  {
   "cell_type": "code",
   "execution_count": 65,
   "id": "c33dc9b0",
   "metadata": {},
   "outputs": [],
   "source": [
    "animals[\"b\"].append(\"bison\")"
   ]
  },
  {
   "cell_type": "code",
   "execution_count": 66,
   "id": "7958f2cb",
   "metadata": {},
   "outputs": [],
   "source": [
    "animals[\"c\"]=[\"cat\"]"
   ]
  },
  {
   "cell_type": "code",
   "execution_count": 67,
   "id": "6028ba40",
   "metadata": {},
   "outputs": [],
   "source": [
    "if \"c\" not in animals:\n",
    "    animals[\"c\"]=[]\n",
    "animals[\"c\"].append(\"cat\")"
   ]
  },
  {
   "cell_type": "markdown",
   "id": "2364a595",
   "metadata": {},
   "source": [
    "Default Dict"
   ]
  },
  {
   "cell_type": "code",
   "execution_count": 69,
   "id": "e03df2bc",
   "metadata": {},
   "outputs": [],
   "source": [
    "from collections import defaultdict"
   ]
  },
  {
   "cell_type": "code",
   "execution_count": 70,
   "id": "e54917d0",
   "metadata": {},
   "outputs": [],
   "source": [
    "animals=defaultdict(list)"
   ]
  },
  {
   "cell_type": "code",
   "execution_count": 71,
   "id": "31680245",
   "metadata": {},
   "outputs": [
    {
     "data": {
      "text/plain": [
       "defaultdict(list, {})"
      ]
     },
     "execution_count": 71,
     "metadata": {},
     "output_type": "execute_result"
    }
   ],
   "source": [
    "animals"
   ]
  },
  {
   "cell_type": "code",
   "execution_count": 72,
   "id": "548d5f6d",
   "metadata": {},
   "outputs": [
    {
     "data": {
      "text/plain": [
       "defaultdict(list, {'e': ['elephant']})"
      ]
     },
     "execution_count": 72,
     "metadata": {},
     "output_type": "execute_result"
    }
   ],
   "source": [
    "animals[\"e\"].append(\"elephant\")\n",
    "animals"
   ]
  },
  {
   "cell_type": "code",
   "execution_count": 73,
   "id": "28234e12",
   "metadata": {},
   "outputs": [
    {
     "data": {
      "text/plain": [
       "defaultdict(list, {'e': ['elephant', 'emu']})"
      ]
     },
     "execution_count": 73,
     "metadata": {},
     "output_type": "execute_result"
    }
   ],
   "source": [
    "animals[\"e\"].append(\"emu\")\n",
    "animals"
   ]
  },
  {
   "cell_type": "code",
   "execution_count": 74,
   "id": "1e3dcc8e",
   "metadata": {},
   "outputs": [
    {
     "data": {
      "text/plain": [
       "[]"
      ]
     },
     "execution_count": 74,
     "metadata": {},
     "output_type": "execute_result"
    }
   ],
   "source": [
    "animals[\"f\"]"
   ]
  },
  {
   "cell_type": "markdown",
   "id": "fee8c7d6",
   "metadata": {},
   "source": []
  },
  {
   "cell_type": "markdown",
   "id": "774a5678",
   "metadata": {},
   "source": [
    "List Comprehension"
   ]
  },
  {
   "cell_type": "code",
   "execution_count": 75,
   "id": "93f1b5de",
   "metadata": {},
   "outputs": [
    {
     "data": {
      "text/plain": [
       "[2, 4, 6]"
      ]
     },
     "execution_count": 75,
     "metadata": {},
     "output_type": "execute_result"
    }
   ],
   "source": [
    "l=[1,2,3]\n",
    "[2*item for item in l]"
   ]
  },
  {
   "cell_type": "markdown",
   "id": "07dbd5a6",
   "metadata": {},
   "source": [
    "WITH FILTERS"
   ]
  },
  {
   "cell_type": "code",
   "execution_count": 77,
   "id": "8625b679",
   "metadata": {},
   "outputs": [
    {
     "data": {
      "text/plain": [
       "[0, 10, 20, 30, 40, 50, 60, 70, 80, 90]"
      ]
     },
     "execution_count": 77,
     "metadata": {},
     "output_type": "execute_result"
    }
   ],
   "source": [
    "l=list(range(100))\n",
    "filteredList=[item for item in l if item % 10 == 0]\n",
    "filteredList"
   ]
  },
  {
   "cell_type": "code",
   "execution_count": 78,
   "id": "ef8992a1",
   "metadata": {},
   "outputs": [
    {
     "data": {
      "text/plain": [
       "[0,\n",
       " 1,\n",
       " 2,\n",
       " 10,\n",
       " 11,\n",
       " 12,\n",
       " 20,\n",
       " 21,\n",
       " 22,\n",
       " 30,\n",
       " 31,\n",
       " 32,\n",
       " 40,\n",
       " 41,\n",
       " 42,\n",
       " 50,\n",
       " 51,\n",
       " 52,\n",
       " 60,\n",
       " 61,\n",
       " 62,\n",
       " 70,\n",
       " 71,\n",
       " 72,\n",
       " 80,\n",
       " 81,\n",
       " 82,\n",
       " 90,\n",
       " 91,\n",
       " 92]"
      ]
     },
     "execution_count": 78,
     "metadata": {},
     "output_type": "execute_result"
    }
   ],
   "source": [
    "filteredList=[item for item in l if item % 10 < 3]\n",
    "filteredList"
   ]
  },
  {
   "cell_type": "markdown",
   "id": "1c70596f",
   "metadata": {},
   "source": [
    "WITH FUNCTIONS"
   ]
  },
  {
   "cell_type": "code",
   "execution_count": 79,
   "id": "efca0475",
   "metadata": {},
   "outputs": [],
   "source": [
    "st=\"My name is Ryan Mitchel. I live in Boston\""
   ]
  },
  {
   "cell_type": "code",
   "execution_count": 80,
   "id": "ab5c4876",
   "metadata": {},
   "outputs": [
    {
     "data": {
      "text/plain": [
       "['My name is Ryan Mitchel', ' I live in Boston']"
      ]
     },
     "execution_count": 80,
     "metadata": {},
     "output_type": "execute_result"
    }
   ],
   "source": [
    "st.split(\".\")"
   ]
  },
  {
   "cell_type": "code",
   "execution_count": 81,
   "id": "2848cb12",
   "metadata": {},
   "outputs": [
    {
     "data": {
      "text/plain": [
       "['My', 'name', 'is', 'Ryan', 'Mitchel.', 'I', 'live', 'in', 'Boston']"
      ]
     },
     "execution_count": 81,
     "metadata": {},
     "output_type": "execute_result"
    }
   ],
   "source": [
    "st.split()"
   ]
  },
  {
   "cell_type": "code",
   "execution_count": 84,
   "id": "86f5e27a",
   "metadata": {},
   "outputs": [
    {
     "data": {
      "text/plain": [
       "['my', 'name', 'is', 'ryan', 'mitchel', 'i', 'live', 'in', 'boston']"
      ]
     },
     "execution_count": 84,
     "metadata": {},
     "output_type": "execute_result"
    }
   ],
   "source": [
    "def cleanWord(word):\n",
    "    return word.replace(\".\",\"\").lower()\n",
    "[cleanWord(word) for word in st.split()]"
   ]
  },
  {
   "cell_type": "code",
   "execution_count": 86,
   "id": "e873e6ce",
   "metadata": {},
   "outputs": [
    {
     "data": {
      "text/plain": [
       "['my', 'is', 'i', 'in']"
      ]
     },
     "execution_count": 86,
     "metadata": {},
     "output_type": "execute_result"
    }
   ],
   "source": [
    "[cleanWord(word) for word in st.split() if len(cleanWord(word))<3]"
   ]
  },
  {
   "cell_type": "markdown",
   "id": "47d73441",
   "metadata": {},
   "source": [
    "NESTED LIST"
   ]
  },
  {
   "cell_type": "code",
   "execution_count": 87,
   "id": "c38fb21f",
   "metadata": {},
   "outputs": [
    {
     "data": {
      "text/plain": [
       "[['my', 'name', 'is', 'ryan', 'mitchel'], ['i', 'live', 'in', 'boston']]"
      ]
     },
     "execution_count": 87,
     "metadata": {},
     "output_type": "execute_result"
    }
   ],
   "source": [
    "[[cleanWord(word) for word in sentence.split()]for sentence in st.split(\".\")]"
   ]
  },
  {
   "cell_type": "markdown",
   "id": "74cada2f",
   "metadata": {},
   "source": [
    "DICTIONARY COMPREHENSION"
   ]
  },
  {
   "cell_type": "code",
   "execution_count": 88,
   "id": "1a5b7597",
   "metadata": {},
   "outputs": [
    {
     "data": {
      "text/plain": [
       "{'a': 'aardvark', 'b': 'bear', 'c': 'cat', 'd': 'dog'}"
      ]
     },
     "execution_count": 88,
     "metadata": {},
     "output_type": "execute_result"
    }
   ],
   "source": [
    "animalList=[(\"a\",\"aardvark\"),(\"b\",\"bear\"),(\"c\",\"cat\"),(\"d\",\"dog\")]\n",
    "animals = {item[0]:item[1] for item in animalList}\n",
    "animals"
   ]
  },
  {
   "cell_type": "code",
   "execution_count": 91,
   "id": "8351dcb4",
   "metadata": {},
   "outputs": [
    {
     "data": {
      "text/plain": [
       "{'a': 'aardvark', 'b': 'bear', 'c': 'cat', 'd': 'dog'}"
      ]
     },
     "execution_count": 91,
     "metadata": {},
     "output_type": "execute_result"
    }
   ],
   "source": [
    "animals = {key:value for key,value in animalList}\n",
    "animals"
   ]
  },
  {
   "cell_type": "code",
   "execution_count": 92,
   "id": "b38cf86f",
   "metadata": {},
   "outputs": [
    {
     "data": {
      "text/plain": [
       "dict_items([('a', 'aardvark'), ('b', 'bear'), ('c', 'cat'), ('d', 'dog')])"
      ]
     },
     "execution_count": 92,
     "metadata": {},
     "output_type": "execute_result"
    }
   ],
   "source": [
    "animals.items()"
   ]
  },
  {
   "cell_type": "code",
   "execution_count": 93,
   "id": "a029ac6f",
   "metadata": {},
   "outputs": [
    {
     "data": {
      "text/plain": [
       "[('a', 'aardvark'), ('b', 'bear'), ('c', 'cat'), ('d', 'dog')]"
      ]
     },
     "execution_count": 93,
     "metadata": {},
     "output_type": "execute_result"
    }
   ],
   "source": [
    "list(animals.items())"
   ]
  },
  {
   "cell_type": "code",
   "execution_count": 96,
   "id": "144da800",
   "metadata": {},
   "outputs": [
    {
     "data": {
      "text/plain": [
       "[{'letter': 'a', 'name': 'aardvark'},\n",
       " {'letter': 'b', 'name': 'bear'},\n",
       " {'letter': 'c', 'name': 'cat'},\n",
       " {'letter': 'd', 'name': 'dog'}]"
      ]
     },
     "execution_count": 96,
     "metadata": {},
     "output_type": "execute_result"
    }
   ],
   "source": [
    "[{\"letter\":key,\"name\":value} for key,value in animals.items()]"
   ]
  },
  {
   "cell_type": "code",
   "execution_count": null,
   "id": "fb7ef400",
   "metadata": {},
   "outputs": [],
   "source": []
  }
 ],
 "metadata": {
  "kernelspec": {
   "display_name": "Python 3",
   "language": "python",
   "name": "python3"
  },
  "language_info": {
   "codemirror_mode": {
    "name": "ipython",
    "version": 3
   },
   "file_extension": ".py",
   "mimetype": "text/x-python",
   "name": "python",
   "nbconvert_exporter": "python",
   "pygments_lexer": "ipython3",
   "version": "3.8.8"
  }
 },
 "nbformat": 4,
 "nbformat_minor": 5
}
