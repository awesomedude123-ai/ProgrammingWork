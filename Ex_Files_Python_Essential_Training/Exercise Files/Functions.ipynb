{
 "cells": [
  {
   "cell_type": "markdown",
   "id": "c13b9b4a",
   "metadata": {},
   "source": [
    "Functions"
   ]
  },
  {
   "cell_type": "code",
   "execution_count": 1,
   "id": "75336582",
   "metadata": {},
   "outputs": [
    {
     "data": {
      "text/plain": [
       "4"
      ]
     },
     "execution_count": 1,
     "metadata": {},
     "output_type": "execute_result"
    }
   ],
   "source": [
    "def performOperation(num1, num2, operation):\n",
    "    if operation=='sum':\n",
    "        return num1+num2\n",
    "    if operation==\"multiply\":\n",
    "        return num*num2\n",
    "performOperation(2,2,\"sum\")"
   ]
  },
  {
   "cell_type": "code",
   "execution_count": 2,
   "id": "d6977421",
   "metadata": {},
   "outputs": [],
   "source": [
    "def performOperation(num1=2, num2=2, operation=\"sum\"):\n",
    "    if operation=='sum':\n",
    "        return num1+num2\n",
    "    if operation==\"multiply\":\n",
    "        return num*num2"
   ]
  },
  {
   "cell_type": "code",
   "execution_count": 6,
   "id": "1da020d4",
   "metadata": {},
   "outputs": [
    {
     "name": "stdout",
     "output_type": "stream",
     "text": [
      "Default Message\n"
     ]
    },
    {
     "data": {
      "text/plain": [
       "18"
      ]
     },
     "execution_count": 6,
     "metadata": {},
     "output_type": "execute_result"
    }
   ],
   "source": [
    "def performOperation(num1=2, num2=2, operation=\"sum\",message=\"Default Message\"):\n",
    "    print(message)\n",
    "    if operation=='sum':\n",
    "        return num1+num2\n",
    "    if operation==\"multiply\":\n",
    "        return num1*num2\n",
    "performOperation(3,6,\"multiply\")"
   ]
  },
  {
   "cell_type": "markdown",
   "id": "2942ee9a",
   "metadata": {},
   "source": [
    "*Args"
   ]
  },
  {
   "cell_type": "code",
   "execution_count": 9,
   "id": "0c0fbd60",
   "metadata": {},
   "outputs": [
    {
     "name": "stdout",
     "output_type": "stream",
     "text": [
      "(1, 2, 3)\n"
     ]
    }
   ],
   "source": [
    "def performOperation(*args):\n",
    "    print(args)\n",
    "performOperation(1,2,3)"
   ]
  },
  {
   "cell_type": "code",
   "execution_count": 10,
   "id": "2823d580",
   "metadata": {},
   "outputs": [
    {
     "ename": "TypeError",
     "evalue": "performOperation() got an unexpected keyword argument 'message'",
     "output_type": "error",
     "traceback": [
      "\u001b[0;31m---------------------------------------------------------------------------\u001b[0m",
      "\u001b[0;31mTypeError\u001b[0m                                 Traceback (most recent call last)",
      "\u001b[0;32m<ipython-input-10-0a5210930a4d>\u001b[0m in \u001b[0;36m<module>\u001b[0;34m\u001b[0m\n\u001b[0;32m----> 1\u001b[0;31m \u001b[0mperformOperation\u001b[0m\u001b[0;34m(\u001b[0m\u001b[0mmessage\u001b[0m\u001b[0;34m=\u001b[0m\u001b[0;34m\"hi\"\u001b[0m\u001b[0;34m)\u001b[0m\u001b[0;34m\u001b[0m\u001b[0;34m\u001b[0m\u001b[0m\n\u001b[0m",
      "\u001b[0;31mTypeError\u001b[0m: performOperation() got an unexpected keyword argument 'message'"
     ]
    }
   ],
   "source": [
    "performOperation(message=\"hi\")"
   ]
  },
  {
   "cell_type": "markdown",
   "id": "7d5638f3",
   "metadata": {},
   "source": [
    "**kwargs"
   ]
  },
  {
   "cell_type": "code",
   "execution_count": 11,
   "id": "c71fa43c",
   "metadata": {},
   "outputs": [
    {
     "name": "stdout",
     "output_type": "stream",
     "text": [
      "(1, 2, 3)\n",
      "{'operation': 'hi', 'message': 'hello'}\n"
     ]
    }
   ],
   "source": [
    "def performOperation(*args,**kwargs):\n",
    "    print(args)\n",
    "    print(kwargs)\n",
    "performOperation(1,2,3,operation=\"hi\",message=\"hello\")"
   ]
  },
  {
   "cell_type": "code",
   "execution_count": 12,
   "id": "7003fabe",
   "metadata": {},
   "outputs": [],
   "source": [
    "import math"
   ]
  },
  {
   "cell_type": "code",
   "execution_count": 15,
   "id": "0f6dc752",
   "metadata": {},
   "outputs": [],
   "source": [
    "def performOperation(*args, operation=\"sum\"):\n",
    "    if operation=='sum':\n",
    "        return sum(args)\n",
    "    if operation==\"multiply\":\n",
    "        return math.prod(args)"
   ]
  },
  {
   "cell_type": "code",
   "execution_count": 19,
   "id": "ff05afea",
   "metadata": {},
   "outputs": [
    {
     "data": {
      "text/plain": [
       "7"
      ]
     },
     "execution_count": 19,
     "metadata": {},
     "output_type": "execute_result"
    }
   ],
   "source": [
    "performOperation(2,2,3,operation=\"sum\")"
   ]
  },
  {
   "cell_type": "markdown",
   "id": "f2b9d9ed",
   "metadata": {},
   "source": [
    "locals()"
   ]
  },
  {
   "cell_type": "code",
   "execution_count": 21,
   "id": "74d351bb",
   "metadata": {},
   "outputs": [
    {
     "name": "stdout",
     "output_type": "stream",
     "text": [
      "{'num1': 1, 'num2': 2, 'operation': 'multiply'}\n"
     ]
    }
   ],
   "source": [
    "def performOperation(num1, num2,operation=\"sum\"):\n",
    "    print(locals())\n",
    "performOperation(1,2,\"multiply\")"
   ]
  },
  {
   "cell_type": "markdown",
   "id": "39b38c6f",
   "metadata": {},
   "source": [
    "globals()"
   ]
  },
  {
   "cell_type": "code",
   "execution_count": 22,
   "id": "91529c3f",
   "metadata": {},
   "outputs": [
    {
     "data": {
      "text/plain": [
       "{'__name__': '__main__',\n",
       " '__doc__': 'Automatically created module for IPython interactive environment',\n",
       " '__package__': None,\n",
       " '__loader__': None,\n",
       " '__spec__': None,\n",
       " '__builtin__': <module 'builtins' (built-in)>,\n",
       " '__builtins__': <module 'builtins' (built-in)>,\n",
       " '_ih': ['',\n",
       "  'def performOperation(num1, num2, operation):\\n    if operation==\\'sum\\':\\n        return num1+num2\\n    if operation==\"multiply\":\\n        return num*num2\\nperformOperation(2,2,\"sum\")',\n",
       "  'def performOperation(num1=2, num2=2, operation=\"sum\"):\\n    if operation==\\'sum\\':\\n        return num1+num2\\n    if operation==\"multiply\":\\n        return num*num2',\n",
       "  'def performOperation(num1=2, num2=2, operation=\"sum\",message=\"Default Message\"):\\n    print(message)\\n    if operation==\\'sum\\':\\n        return num1+num2\\n    if operation==\"multiply\":\\n        return num*num2\\nperformOperation(message=\"Hi\")',\n",
       "  'def performOperation(num1=2, num2=2, operation=\"sum\",message=\"Default Message\"):\\n    print(message)\\n    if operation==\\'sum\\':\\n        return num1+num2\\n    if operation==\"multiply\":\\n        return num*num2\\nperformOperation()',\n",
       "  'def performOperation(num1=2, num2=2, operation=\"sum\",message=\"Default Message\"):\\n    print(message)\\n    if operation==\\'sum\\':\\n        return num1+num2\\n    if operation==\"multiply\":\\n        return num*num2\\nperformOperation(3,6,\"multiply\")',\n",
       "  'def performOperation(num1=2, num2=2, operation=\"sum\",message=\"Default Message\"):\\n    print(message)\\n    if operation==\\'sum\\':\\n        return num1+num2\\n    if operation==\"multiply\":\\n        return num1*num2\\nperformOperation(3,6,\"multiply\")',\n",
       "  'def performOperation(args):\\n    print(args)\\nperformOperation(1,2,3)',\n",
       "  'def performOperation(*args):\\n    print(args)\\nperformOperation(1,2,3)',\n",
       "  'def performOperation(*args):\\n    print(args)\\nperformOperation(1,2,3)',\n",
       "  'performOperation(message=\"hi\")',\n",
       "  'def performOperation(*args,**kwargs):\\n    print(args)\\n    print(kwargs)\\nperformOperation(1,2,3,operation=\"hi\",message=\"hello\")',\n",
       "  'import math',\n",
       "  'def performOperation(*args, operation=\"sum\"):\\n    if operation==\\'sum\\':\\n        return math.sum(args)\\n    if operation==\"multiply\":\\n        return math.prod(args)',\n",
       "  'performOperation(1,2,3,operation=\"sum\")',\n",
       "  'def performOperation(*args, operation=\"sum\"):\\n    if operation==\\'sum\\':\\n        return sum(args)\\n    if operation==\"multiply\":\\n        return math.prod(args)',\n",
       "  'performOperation(1,2,3,operation=\"sum\")',\n",
       "  'performOperation(1,2,3,operation=\"multiply\")',\n",
       "  'performOperation(2,2,3,operation=\"multiply\")',\n",
       "  'performOperation(2,2,3,operation=\"sum\")',\n",
       "  'def performOperation(num1, num2,operation=\"sum\"):\\n    print(locals())\\nperfromOperation(1,2,\"multiply\")',\n",
       "  'def performOperation(num1, num2,operation=\"sum\"):\\n    print(locals())\\nperformOperation(1,2,\"multiply\")',\n",
       "  'globals()'],\n",
       " '_oh': {1: 4, 3: 4, 4: 4, 6: 18, 16: 6, 17: 6, 18: 12, 19: 7},\n",
       " '_dh': ['/Users/awesomedude123/Desktop/Programming/Ex_Files_Python_Essential_Training/Exercise Files'],\n",
       " 'In': ['',\n",
       "  'def performOperation(num1, num2, operation):\\n    if operation==\\'sum\\':\\n        return num1+num2\\n    if operation==\"multiply\":\\n        return num*num2\\nperformOperation(2,2,\"sum\")',\n",
       "  'def performOperation(num1=2, num2=2, operation=\"sum\"):\\n    if operation==\\'sum\\':\\n        return num1+num2\\n    if operation==\"multiply\":\\n        return num*num2',\n",
       "  'def performOperation(num1=2, num2=2, operation=\"sum\",message=\"Default Message\"):\\n    print(message)\\n    if operation==\\'sum\\':\\n        return num1+num2\\n    if operation==\"multiply\":\\n        return num*num2\\nperformOperation(message=\"Hi\")',\n",
       "  'def performOperation(num1=2, num2=2, operation=\"sum\",message=\"Default Message\"):\\n    print(message)\\n    if operation==\\'sum\\':\\n        return num1+num2\\n    if operation==\"multiply\":\\n        return num*num2\\nperformOperation()',\n",
       "  'def performOperation(num1=2, num2=2, operation=\"sum\",message=\"Default Message\"):\\n    print(message)\\n    if operation==\\'sum\\':\\n        return num1+num2\\n    if operation==\"multiply\":\\n        return num*num2\\nperformOperation(3,6,\"multiply\")',\n",
       "  'def performOperation(num1=2, num2=2, operation=\"sum\",message=\"Default Message\"):\\n    print(message)\\n    if operation==\\'sum\\':\\n        return num1+num2\\n    if operation==\"multiply\":\\n        return num1*num2\\nperformOperation(3,6,\"multiply\")',\n",
       "  'def performOperation(args):\\n    print(args)\\nperformOperation(1,2,3)',\n",
       "  'def performOperation(*args):\\n    print(args)\\nperformOperation(1,2,3)',\n",
       "  'def performOperation(*args):\\n    print(args)\\nperformOperation(1,2,3)',\n",
       "  'performOperation(message=\"hi\")',\n",
       "  'def performOperation(*args,**kwargs):\\n    print(args)\\n    print(kwargs)\\nperformOperation(1,2,3,operation=\"hi\",message=\"hello\")',\n",
       "  'import math',\n",
       "  'def performOperation(*args, operation=\"sum\"):\\n    if operation==\\'sum\\':\\n        return math.sum(args)\\n    if operation==\"multiply\":\\n        return math.prod(args)',\n",
       "  'performOperation(1,2,3,operation=\"sum\")',\n",
       "  'def performOperation(*args, operation=\"sum\"):\\n    if operation==\\'sum\\':\\n        return sum(args)\\n    if operation==\"multiply\":\\n        return math.prod(args)',\n",
       "  'performOperation(1,2,3,operation=\"sum\")',\n",
       "  'performOperation(1,2,3,operation=\"multiply\")',\n",
       "  'performOperation(2,2,3,operation=\"multiply\")',\n",
       "  'performOperation(2,2,3,operation=\"sum\")',\n",
       "  'def performOperation(num1, num2,operation=\"sum\"):\\n    print(locals())\\nperfromOperation(1,2,\"multiply\")',\n",
       "  'def performOperation(num1, num2,operation=\"sum\"):\\n    print(locals())\\nperformOperation(1,2,\"multiply\")',\n",
       "  'globals()'],\n",
       " 'Out': {1: 4, 3: 4, 4: 4, 6: 18, 16: 6, 17: 6, 18: 12, 19: 7},\n",
       " 'get_ipython': <bound method InteractiveShell.get_ipython of <ipykernel.zmqshell.ZMQInteractiveShell object at 0x7fb6a0397a60>>,\n",
       " 'exit': <IPython.core.autocall.ZMQExitAutocall at 0x7fb6403dcb80>,\n",
       " 'quit': <IPython.core.autocall.ZMQExitAutocall at 0x7fb6403dcb80>,\n",
       " '_': 7,\n",
       " '__': 12,\n",
       " '___': 6,\n",
       " '_i': 'def performOperation(num1, num2,operation=\"sum\"):\\n    print(locals())\\nperformOperation(1,2,\"multiply\")',\n",
       " '_ii': 'def performOperation(num1, num2,operation=\"sum\"):\\n    print(locals())\\nperfromOperation(1,2,\"multiply\")',\n",
       " '_iii': 'performOperation(2,2,3,operation=\"sum\")',\n",
       " '_i1': 'def performOperation(num1, num2, operation):\\n    if operation==\\'sum\\':\\n        return num1+num2\\n    if operation==\"multiply\":\\n        return num*num2\\nperformOperation(2,2,\"sum\")',\n",
       " 'performOperation': <function __main__.performOperation(num1, num2, operation='sum')>,\n",
       " '_1': 4,\n",
       " '_i2': 'def performOperation(num1=2, num2=2, operation=\"sum\"):\\n    if operation==\\'sum\\':\\n        return num1+num2\\n    if operation==\"multiply\":\\n        return num*num2',\n",
       " '_i3': 'def performOperation(num1=2, num2=2, operation=\"sum\",message=\"Default Message\"):\\n    print(message)\\n    if operation==\\'sum\\':\\n        return num1+num2\\n    if operation==\"multiply\":\\n        return num*num2\\nperformOperation(message=\"Hi\")',\n",
       " '_3': 4,\n",
       " '_i4': 'def performOperation(num1=2, num2=2, operation=\"sum\",message=\"Default Message\"):\\n    print(message)\\n    if operation==\\'sum\\':\\n        return num1+num2\\n    if operation==\"multiply\":\\n        return num*num2\\nperformOperation()',\n",
       " '_4': 4,\n",
       " '_i5': 'def performOperation(num1=2, num2=2, operation=\"sum\",message=\"Default Message\"):\\n    print(message)\\n    if operation==\\'sum\\':\\n        return num1+num2\\n    if operation==\"multiply\":\\n        return num*num2\\nperformOperation(3,6,\"multiply\")',\n",
       " '_i6': 'def performOperation(num1=2, num2=2, operation=\"sum\",message=\"Default Message\"):\\n    print(message)\\n    if operation==\\'sum\\':\\n        return num1+num2\\n    if operation==\"multiply\":\\n        return num1*num2\\nperformOperation(3,6,\"multiply\")',\n",
       " '_6': 18,\n",
       " '_i7': 'def performOperation(args):\\n    print(args)\\nperformOperation(1,2,3)',\n",
       " '_i8': 'def performOperation(*args):\\n    print(args)\\nperformOperation(1,2,3)',\n",
       " '_i9': 'def performOperation(*args):\\n    print(args)\\nperformOperation(1,2,3)',\n",
       " '_i10': 'performOperation(message=\"hi\")',\n",
       " '_i11': 'def performOperation(*args,**kwargs):\\n    print(args)\\n    print(kwargs)\\nperformOperation(1,2,3,operation=\"hi\",message=\"hello\")',\n",
       " '_i12': 'import math',\n",
       " 'math': <module 'math' from '/opt/anaconda3/lib/python3.8/lib-dynload/math.cpython-38-darwin.so'>,\n",
       " '_i13': 'def performOperation(*args, operation=\"sum\"):\\n    if operation==\\'sum\\':\\n        return math.sum(args)\\n    if operation==\"multiply\":\\n        return math.prod(args)',\n",
       " '_i14': 'performOperation(1,2,3,operation=\"sum\")',\n",
       " '_i15': 'def performOperation(*args, operation=\"sum\"):\\n    if operation==\\'sum\\':\\n        return sum(args)\\n    if operation==\"multiply\":\\n        return math.prod(args)',\n",
       " '_i16': 'performOperation(1,2,3,operation=\"sum\")',\n",
       " '_16': 6,\n",
       " '_i17': 'performOperation(1,2,3,operation=\"multiply\")',\n",
       " '_17': 6,\n",
       " '_i18': 'performOperation(2,2,3,operation=\"multiply\")',\n",
       " '_18': 12,\n",
       " '_i19': 'performOperation(2,2,3,operation=\"sum\")',\n",
       " '_19': 7,\n",
       " '_i20': 'def performOperation(num1, num2,operation=\"sum\"):\\n    print(locals())\\nperfromOperation(1,2,\"multiply\")',\n",
       " '_i21': 'def performOperation(num1, num2,operation=\"sum\"):\\n    print(locals())\\nperformOperation(1,2,\"multiply\")',\n",
       " '_i22': 'globals()'}"
      ]
     },
     "execution_count": 22,
     "metadata": {},
     "output_type": "execute_result"
    }
   ],
   "source": [
    "globals()"
   ]
  },
  {
   "cell_type": "markdown",
   "id": "54811929",
   "metadata": {},
   "source": [
    "Global and Local Scope"
   ]
  },
  {
   "cell_type": "code",
   "execution_count": 25,
   "id": "65a60c1b",
   "metadata": {},
   "outputs": [
    {
     "name": "stdout",
     "output_type": "stream",
     "text": [
      "1\n",
      "Global Value\n",
      "{'varA': 1, 'varB': 2}\n",
      "2\n",
      "Global Value\n",
      "{'varC': 3, 'varD': 4}\n"
     ]
    }
   ],
   "source": [
    "message=\"Global Value\"\n",
    "varA=2\n",
    "def function1(varA,varB):\n",
    "    print(varA)\n",
    "    print(message)\n",
    "    print(locals())\n",
    "def function2(varC,varD):\n",
    "    print(varA)\n",
    "    print(message)\n",
    "    print(locals())\n",
    "function1(1,2)\n",
    "function2(3,4)"
   ]
  },
  {
   "cell_type": "code",
   "execution_count": 26,
   "id": "ffad6ae8",
   "metadata": {},
   "outputs": [
    {
     "name": "stdout",
     "output_type": "stream",
     "text": [
      "1\n",
      "inner_function local scope: {'varA': 123, 'varB': 456}\n"
     ]
    }
   ],
   "source": [
    "def function1(varA,varB):\n",
    "    message=\"Some local data\"\n",
    "    print(varA)\n",
    "    def inner_function(varA,varB):\n",
    "        print(f'inner_function local scope: {locals()}')\n",
    "    inner_function(123,456)\n",
    "function1(1,2)"
   ]
  },
  {
   "cell_type": "code",
   "execution_count": 27,
   "id": "a4322adb",
   "metadata": {},
   "outputs": [
    {
     "name": "stdout",
     "output_type": "stream",
     "text": [
      "1\n",
      "inner_function local scope: {'varA': 123, 'varB': 456}\n",
      "{'varA': 1, 'varB': 2, 'message': 'Some local data', 'inner_function': <function function1.<locals>.inner_function at 0x7fb63040b9d0>}\n"
     ]
    }
   ],
   "source": [
    "def function1(varA,varB):\n",
    "    message=\"Some local data\"\n",
    "    print(varA)\n",
    "    def inner_function(varA,varB):\n",
    "        print(f'inner_function local scope: {locals()}')\n",
    "    inner_function(123,456)\n",
    "    print(locals())\n",
    "function1(1,2)"
   ]
  },
  {
   "cell_type": "markdown",
   "id": "ce700318",
   "metadata": {},
   "source": [
    "Variables as Functions"
   ]
  },
  {
   "cell_type": "markdown",
   "id": "6ce21385",
   "metadata": {},
   "source": [
    "Viewing Function data with __code__"
   ]
  },
  {
   "cell_type": "code",
   "execution_count": 30,
   "id": "59b2d6f9",
   "metadata": {},
   "outputs": [
    {
     "name": "stdout",
     "output_type": "stream",
     "text": [
      "()\n",
      "b'd\\x01S\\x00'\n"
     ]
    }
   ],
   "source": [
    "def x():\n",
    "    return 5\n",
    "print(x.__code__.co_varnames)\n",
    "print(x.__code__.co_code)"
   ]
  },
  {
   "cell_type": "code",
   "execution_count": 33,
   "id": "0dc99d13",
   "metadata": {},
   "outputs": [
    {
     "name": "stdout",
     "output_type": "stream",
     "text": [
      "2\n",
      "1\n",
      "0.25\n"
     ]
    }
   ],
   "source": [
    "def example(num1=1):\n",
    "    return num1*2\n",
    "def third(num1=1):\n",
    "    return num1**3\n",
    "def fourth(num1=1):\n",
    "    return num1/4\n",
    "\n",
    "fun=[example,third,fourth]\n",
    "value=6\n",
    "for i in fun:\n",
    "    value=i()\n",
    "    print(value)"
   ]
  },
  {
   "cell_type": "markdown",
   "id": "94ebae4d",
   "metadata": {},
   "source": [
    "Lambda Functions"
   ]
  },
  {
   "cell_type": "code",
   "execution_count": 34,
   "id": "086cca58",
   "metadata": {},
   "outputs": [
    {
     "data": {
      "text/plain": [
       "8"
      ]
     },
     "execution_count": 34,
     "metadata": {},
     "output_type": "execute_result"
    }
   ],
   "source": [
    "(lambda x: x+3)(5)"
   ]
  },
  {
   "cell_type": "code",
   "execution_count": 35,
   "id": "973b6c5e",
   "metadata": {},
   "outputs": [
    {
     "data": {
      "text/plain": [
       "[1, 1, 3, 4, 5, 42, 52]"
      ]
     },
     "execution_count": 35,
     "metadata": {},
     "output_type": "execute_result"
    }
   ],
   "source": [
    "myList=[5,42,1,3,4,52,1]\n",
    "sorted(myList)"
   ]
  },
  {
   "cell_type": "code",
   "execution_count": 2,
   "id": "3d077001",
   "metadata": {},
   "outputs": [
    {
     "data": {
      "text/plain": [
       "[{'num': 1}, {'num': 2}, {'num': 3}]"
      ]
     },
     "execution_count": 2,
     "metadata": {},
     "output_type": "execute_result"
    }
   ],
   "source": [
    "myList=[{\"num\":1},{\"num\":3},{\"num\":2}]\n",
    "sorted(myList,key=lambda x: x[\"num\"])"
   ]
  },
  {
   "cell_type": "code",
   "execution_count": null,
   "id": "f7a573dd",
   "metadata": {},
   "outputs": [],
   "source": []
  }
 ],
 "metadata": {
  "kernelspec": {
   "display_name": "Python 3",
   "language": "python",
   "name": "python3"
  },
  "language_info": {
   "codemirror_mode": {
    "name": "ipython",
    "version": 3
   },
   "file_extension": ".py",
   "mimetype": "text/x-python",
   "name": "python",
   "nbconvert_exporter": "python",
   "pygments_lexer": "ipython3",
   "version": "3.8.8"
  }
 },
 "nbformat": 4,
 "nbformat_minor": 5
}
